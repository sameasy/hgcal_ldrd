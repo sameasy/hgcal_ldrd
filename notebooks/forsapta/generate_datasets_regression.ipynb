{
 "cells": [
  {
   "cell_type": "code",
   "execution_count": null,
   "metadata": {},
   "outputs": [],
   "source": [
    "import numpy as np\n",
    "from scipy.sparse import csr_matrix, find\n",
    "from scipy.spatial import cKDTree\n",
    "from tqdm import tqdm_notebook as tqdm\n",
    "\n",
    "from datasets.graph import draw_sample\n",
    "import torch\n"
   ]
  },
  {
   "cell_type": "code",
   "execution_count": null,
   "metadata": {},
   "outputs": [],
   "source": [
    "model_fname = '/home/sameasy2006/hgcal_ldrd-gravnet2_wip_trainer_args/output_HGC_pion8nn_siminfo/checkpoints/model_checkpoint_EdgeNetWithCategories_264403_5b5c05404f_sameasy2006.best.pth.tar'\n",
    "from models.EdgeNetWithCategories import EdgeNetWithCategories\n",
    "mdl = EdgeNetWithCategories(input_dim=5, hidden_dim=64, output_dim=4, n_iters=6).to('cuda:0')\n",
    "mdl.load_state_dict(torch.load(model_fname)['model'])\n",
    "mdl.eval()\n"
   ]
  },
  {
   "cell_type": "code",
   "execution_count": null,
   "metadata": {},
   "outputs": [],
   "source": [
    "from unionfind import UnionFind \n",
    "def cluster_points(X,out):\n",
    "    finder_had = UnionFind(X.shape[0])\n",
    "    finder_pho = UnionFind(X.shape[0])\n",
    "    finder_mip = UnionFind(X.shape[0])\n",
    "\n",
    "    for i in (range(index.shape[0])):\n",
    "        if out[i] == 1:\n",
    "            finder_had.union(index[i,0], index[i,1])\n",
    "        if out[i] == 2:\n",
    "            finder_pho.union(index[i,0], index[i,1])\n",
    "        if out[i] == 3:\n",
    "            finder_mip.union(index[i,0], index[i,1])\n",
    "\n",
    "    had_roots = np.array([finder_had.find(i) for i in range(X.shape[0])], dtype=np.uint32)\n",
    "    pho_roots = np.array([finder_pho.find(i) for i in range(X.shape[0])], dtype=np.uint32)\n",
    "    mip_roots = np.array([finder_mip.find(i) for i in range(X.shape[0])], dtype=np.uint32)\n",
    "\n",
    "\n",
    "    had_clusters = np.unique(had_roots, return_inverse=True, return_counts=True)\n",
    "    pho_clusters = np.unique(pho_roots, return_inverse=True, return_counts=True)\n",
    "    mip_clusters = np.unique(mip_roots, return_inverse=True, return_counts=True)\n",
    "\n",
    "    hads = had_clusters[0][np.where(had_clusters[2] > 4)]\n",
    "    ems = pho_clusters[0][np.where(pho_clusters[2] > 4)]\n",
    "    mips = mip_clusters[0][np.where(mip_clusters[2] > 4)]\n",
    "\n",
    "    had_clusters_sel = {i: np.where(had_roots == had)[0] for i, had in enumerate(hads)}\n",
    "    em_clusters_sel = {i: np.where(pho_roots == em)[0] for i, em in enumerate(ems)}\n",
    "    mip_clusters_sel = {i: np.where(mip_roots == mip)[0] for i, mip in enumerate(mips)}\n",
    "    \n",
    "    return had_clusters_sel,em_clusters_sel,mip_clusters_sel"
   ]
  },
  {
   "cell_type": "code",
   "execution_count": null,
   "metadata": {},
   "outputs": [],
   "source": [
    "import glob\n",
    "flist = [filepath for filepath in glob.iglob(r'/home/sameasy2006/npz_hgcal_pionaddsiminfo_all_k8/pion_hgctup_0to1000/processed/data_*.pt')]\n",
    "print (len(flist))"
   ]
  },
  {
   "cell_type": "code",
   "execution_count": null,
   "metadata": {},
   "outputs": [],
   "source": [
    "import torch_geometric\n",
    "import torch\n",
    "datacls = []\n",
    "for filename in tqdm(flist):\n",
    "\n",
    "    data = torch.load(filename).to('cuda:0')\n",
    "    X = data.x.cpu().numpy()\n",
    "    pred_edges = mdl(data).detach()\n",
    "    pred_edges_np = pred_edges.cpu().numpy()\n",
    "    index = data.edge_index.cpu().numpy().T\n",
    "    Ro = index[:,0]\n",
    "    Ri = index[:,1]\n",
    "    y = data.y.cpu().numpy()\n",
    "    out =np.argmax(pred_edges_np,axis=-1)\n",
    "    z  = data.z.cpu().numpy()\n",
    "    true_y = z[0]\n",
    "    if len(cluster_points(X,out)[0].keys())  > 1 :\n",
    "        continue\n",
    "    \n",
    "    datacls.extend([torch_geometric.data.Data(x = torch.tensor(X[clus]), y=torch.tensor([true_y])) for clus in cluster_points(X,out)[0].values()])\n"
   ]
  },
  {
   "cell_type": "code",
   "execution_count": null,
   "metadata": {},
   "outputs": [],
   "source": [
    "processed_dir = '/home/sameasy2006/npz_hgcal_pionaddsiminfo_all_k8/pion_hgctup_0to1000/clusters/'\n",
    "import os\n",
    "import os.path as osp\n",
    "if not os.path.exists(processed_dir):\n",
    "    os.makedirs(processed_dir)\n",
    "\n",
    "for i in tqdm(range(len(datacls))):\n",
    "    torch.save(datacls[i], osp.join(processed_dir, 'data_{}.pt'.format(i)))"
   ]
  },
  {
   "cell_type": "code",
   "execution_count": null,
   "metadata": {},
   "outputs": [],
   "source": []
  },
  {
   "cell_type": "code",
   "execution_count": null,
   "metadata": {},
   "outputs": [],
   "source": []
  },
  {
   "cell_type": "code",
   "execution_count": null,
   "metadata": {},
   "outputs": [],
   "source": []
  },
  {
   "cell_type": "code",
   "execution_count": null,
   "metadata": {},
   "outputs": [],
   "source": []
  },
  {
   "cell_type": "code",
   "execution_count": null,
   "metadata": {},
   "outputs": [],
   "source": []
  },
  {
   "cell_type": "code",
   "execution_count": null,
   "metadata": {},
   "outputs": [],
   "source": []
  },
  {
   "cell_type": "code",
   "execution_count": null,
   "metadata": {},
   "outputs": [],
   "source": []
  },
  {
   "cell_type": "code",
   "execution_count": null,
   "metadata": {},
   "outputs": [],
   "source": []
  },
  {
   "cell_type": "code",
   "execution_count": null,
   "metadata": {},
   "outputs": [],
   "source": []
  },
  {
   "cell_type": "code",
   "execution_count": null,
   "metadata": {},
   "outputs": [],
   "source": []
  },
  {
   "cell_type": "code",
   "execution_count": null,
   "metadata": {},
   "outputs": [],
   "source": []
  },
  {
   "cell_type": "code",
   "execution_count": null,
   "metadata": {},
   "outputs": [],
   "source": []
  },
  {
   "cell_type": "code",
   "execution_count": null,
   "metadata": {},
   "outputs": [],
   "source": []
  },
  {
   "cell_type": "code",
   "execution_count": null,
   "metadata": {},
   "outputs": [],
   "source": []
  },
  {
   "cell_type": "code",
   "execution_count": null,
   "metadata": {},
   "outputs": [],
   "source": []
  }
 ],
 "metadata": {
  "kernelspec": {
   "display_name": "Python 3",
   "language": "python",
   "name": "python3"
  },
  "language_info": {
   "codemirror_mode": {
    "name": "ipython",
    "version": 3
   },
   "file_extension": ".py",
   "mimetype": "text/x-python",
   "name": "python",
   "nbconvert_exporter": "python",
   "pygments_lexer": "ipython3",
   "version": "3.6.10"
  }
 },
 "nbformat": 4,
 "nbformat_minor": 2
}
