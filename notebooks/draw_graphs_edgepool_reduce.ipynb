{
 "cells": [
  {
   "cell_type": "code",
   "execution_count": null,
   "metadata": {},
   "outputs": [],
   "source": [
    "import numpy as np\n",
    "from scipy.sparse import csr_matrix, find\n",
    "from scipy.spatial import cKDTree\n",
    "from tqdm import tqdm_notebook as tqdm\n",
    "\n",
    "from datasets.graph import draw_sample\n",
    "import torch\n",
    "\n",
    "model_fname = '/home/lagray/hgcal_ldrd/checkpoints/model_checkpoint_EdgeNetWithCategories_264403_5b5c05404f_lagray.best.pth.tar'\n",
    "\n",
    "test_fname = '/home/lagray/training_data/single_taus/test/processed/data_40.pt'\n",
    "\n",
    "#weird stuff\n",
    "#'/home/lagray/training_data/single_taus/test/processed/data_39.pt'\n",
    "#'/home/lagray/training_data/single_taus/test/processed/data_41.pt'\n",
    "#'/home/lagray/training_data/single_taus/test/processed/data_2.pt'\n",
    "#'/home/lagray/training_data/single_taus/test/processed/data_26.pt'"
   ]
  },
  {
   "cell_type": "code",
   "execution_count": null,
   "metadata": {},
   "outputs": [],
   "source": [
    "from models.EdgeNetWithCategories import EdgeNetWithCategories\n",
    "\n",
    "mdl = EdgeNetWithCategories(input_dim=5, hidden_dim=64, output_dim=4, n_iters=6).to('cuda:0')\n",
    "\n",
    "mdl.load_state_dict(torch.load(model_fname)['model'])\n",
    "mdl.eval()"
   ]
  },
  {
   "cell_type": "code",
   "execution_count": null,
   "metadata": {},
   "outputs": [],
   "source": [
    "test_fname = '/home/lagray/training_data/single_taus/processed/data_8069.pt'\n",
    "\n",
    "data = torch.load(test_fname).to('cuda:0')"
   ]
  },
  {
   "cell_type": "code",
   "execution_count": null,
   "metadata": {},
   "outputs": [],
   "source": [
    "with torch.no_grad():\n",
    "    pred_edges = mdl(data).detach()\n",
    "    pred_edges_np = pred_edges.cpu().numpy()"
   ]
  },
  {
   "cell_type": "code",
   "execution_count": null,
   "metadata": {},
   "outputs": [],
   "source": [
    "print(np.unique(np.argmax(pred_edges_np,axis=-1), return_counts=True))\n",
    "print(torch.unique(data.y.cpu(), return_counts=True))"
   ]
  },
  {
   "cell_type": "code",
   "execution_count": null,
   "metadata": {},
   "outputs": [],
   "source": [
    "%matplotlib inline\n",
    "\n",
    "import matplotlib.pyplot as plt\n",
    "from matplotlib import collections  as mc\n",
    "\n",
    "def draw_sample(X, Ri, Ro, y, out,\n",
    "                cmap='bwr_r', \n",
    "                skip_false_edges=True,\n",
    "                alpha_labels=False, \n",
    "                sim_list=None): \n",
    "    \n",
    "    #let's draw only the non-noise edges\n",
    "    out_mask = out > 0\n",
    "    Ri = Ri[out_mask]\n",
    "    Ro = Ro[out_mask]\n",
    "    good_outs = out[out_mask]\n",
    "    \n",
    "    # Select the i/o node features for each segment    \n",
    "    feats_o = X[Ro]\n",
    "    feats_i = X[Ri]    \n",
    "    # Prepare the figure\n",
    "    fig, (ax0,ax1) = plt.subplots(1, 2, figsize=(20,12))\n",
    "    cmap = plt.get_cmap(cmap)\n",
    "    \n",
    "    \n",
    "    #if sim_list is None:    \n",
    "        # Draw the hits (layer, x, y)\n",
    "    #    ax0.scatter(X[:,0], X[:,2], c='k')\n",
    "    #    ax1.scatter(X[:,1], X[:,2], c='k')\n",
    "    #else:        \n",
    "    e_max = np.max(X[:,4])\n",
    "    e_normed = np.tanh(X[:,4]/e_max)#1. / (1. + np.exp(-X[:,4]/e_max))\n",
    "    ax0.scatter(X[:,0], X[:,2], s=(e_normed), c='k')\n",
    "    ax1.scatter(X[:,1], X[:,2], s=(e_normed), c='k')\n",
    "        \n",
    "        \n",
    "    lines0 = []\n",
    "    lines1 = []\n",
    "    colors = []\n",
    "    # Draw the segments    \n",
    "    if out is not None:\n",
    "        #t = tqdm.tqdm()\n",
    "        color_map = {0: (1,1,1,1),\n",
    "                     1: (0,0,1,1),\n",
    "                     2: (1,0,0,1),\n",
    "                     3: (0,1,0,1)}\n",
    "        \n",
    "        for j in tqdm(range(good_outs.shape[0])):\n",
    "            lines0.append([(feats_o[j,0], feats_o[j,2]),(feats_i[j,0], feats_i[j,2])])\n",
    "            lines1.append([(feats_o[j,1], feats_o[j,2]),(feats_i[j,1], feats_i[j,2])])\n",
    "            colors.append(color_map[good_outs[j]])\n",
    "            \n",
    "            #_ = ax0.plot([feats_o[j,0], feats_i[j,0]],\n",
    "            #             [feats_o[j,2], feats_i[j,2]], '-', **seg_args)\n",
    "            #_ = ax1.plot([feats_o[j,1], feats_i[j,1]],\n",
    "            #             [feats_o[j,2], feats_i[j,2]], '-', **seg_args)\n",
    "    else:\n",
    "        t = tqdm.tqdm(range(y.shape[0]))\n",
    "        for j in t:\n",
    "            if y[j]:\n",
    "                seg_args = dict(c='b', alpha=0.4)\n",
    "            elif not skip_false_edges:\n",
    "                seg_args = dict(c='black', alpha=0.4)\n",
    "            else: continue\n",
    "                \n",
    "            ax0.plot([feats_o[j,0], feats_i[j,0]],\n",
    "                     [feats_o[j,2], feats_i[j,2]], '-', **seg_args)\n",
    "            ax1.plot([feats_o[j,1], feats_i[j,1]],\n",
    "                     [feats_o[j,2], feats_i[j,2]], '-', **seg_args)\n",
    "        \n",
    "    col_arr = np.array(colors)\n",
    "    lc0 = mc.LineCollection(lines0, colors=col_arr, linewidths=1)\n",
    "    lc1 = mc.LineCollection(lines1, colors=col_arr, linewidths=1)\n",
    "    \n",
    "    ax0.add_collection(lc0)\n",
    "    ax1.add_collection(lc1)\n",
    "    # Adjust axes\n",
    "    ax0.set_xlabel('$x$ [cm]')\n",
    "    ax1.set_xlabel('$y$ [cm]')\n",
    "    ax0.set_ylabel('$layer$ [arb]')\n",
    "    ax1.set_ylabel('$layer$ [arb]')\n",
    "    plt.tight_layout()\n",
    "    return fig;"
   ]
  },
  {
   "cell_type": "code",
   "execution_count": null,
   "metadata": {
    "scrolled": true
   },
   "outputs": [],
   "source": [
    "#print()\n",
    "\n",
    "X = data.x.cpu().numpy()\n",
    "index = data.edge_index.cpu().numpy().T\n",
    "Ro = index[:,0]\n",
    "Ri = index[:,1]\n",
    "y = data.y.cpu().numpy()\n",
    "\n",
    "out = np.argmax(pred_edges_np,axis=-1)\n"
   ]
  },
  {
   "cell_type": "code",
   "execution_count": null,
   "metadata": {
    "scrolled": false
   },
   "outputs": [],
   "source": [
    "draw_sample(X, Ri, Ro, y, y)"
   ]
  },
  {
   "cell_type": "code",
   "execution_count": null,
   "metadata": {
    "scrolled": false
   },
   "outputs": [],
   "source": [
    "draw_sample(X, Ri, Ro, y, out)"
   ]
  },
  {
   "cell_type": "code",
   "execution_count": null,
   "metadata": {},
   "outputs": [],
   "source": [
    "thecats = np.argmax(pred_edges_np,axis=-1)\n",
    "plt.plot(np.exp(pred_edges_np[:,0][y != 0]),color='black')\n",
    "plt.plot(np.exp(pred_edges_np[:,1][y != 0]),color='blue')\n",
    "plt.plot(np.exp(pred_edges_np[:,2][y != 0]),color='red')\n",
    "plt.plot(np.exp(pred_edges_np[:,3][y != 0]),color='green')\n",
    "pred_edges_np.shape"
   ]
  },
  {
   "cell_type": "code",
   "execution_count": null,
   "metadata": {},
   "outputs": [],
   "source": [
    "validation_loss = np.array([0.0591,0.0517,0.0503,0.0493,0.0485,0.0477,0.0469,0.0462,0.0455,0.0447,0.0441,0.0436,0.0431,0.0428,0.0425,0.0423,0.0421,0.0419,0.0417,0.0415,0.0414,0.0414,0.0413,0.0413,0.0412,0.0411,0.0411,0.0411,0.0411,0.0411,0.0411,0.0410,0.0410,0.0410,0.0410,0.0410,0.0410,0.0410,0.0410])\n",
    "training_loss = np.array([0.136,0.055,0.052,0.050,0.049,0.049,0.048,0.047,0.046,0.046,0.045,0.044,0.044,0.044,0.043,0.043,0.043,0.042,0.042,0.042,0.042,0.042,0.042,0.041,0.041,0.041,0.041,0.041,0.041,0.041,0.041,0.041,0.041,0.041,0.041,0.041,0.041,0.041,0.041])\n",
    "learning_rate = np.concatenate((np.full(18, 1e-4),np.full(24-18, 2e-5),\n",
    "                                np.full(30-24, 4e-6),np.full(36-30,8e-7),\n",
    "                                np.full(39-36, 1.6e-7)))\n",
    "#Epoch    18: reducing learning rate of group 0 to 2.0000e-05.\n",
    "#Epoch    24: reducing learning rate of group 0 to 4.0000e-06.\n",
    "#Epoch    30: reducing learning rate of group 0 to 8.0000e-07.\n",
    "#Epoch    36: reducing learning rate of group 0 to 1.6000e-07.\n",
    "\n",
    "                               \n",
    "                               \n",
    "print(validation_loss.size, training_loss.size)\n",
    "\n",
    "plt.yscale('log')\n",
    "plt.plot(validation_loss, color='orange')\n",
    "plt.plot(training_loss, color='blue')\n"
   ]
  },
  {
   "cell_type": "code",
   "execution_count": null,
   "metadata": {},
   "outputs": [],
   "source": [
    "plt.plot(learning_rate, color='purple')"
   ]
  },
  {
   "cell_type": "code",
   "execution_count": null,
   "metadata": {},
   "outputs": [],
   "source": [
    "from unionfind import UnionFind\n",
    "finder_had = UnionFind(X.shape[0])\n",
    "finder_pho = UnionFind(X.shape[0])\n",
    "finder_mip = UnionFind(X.shape[0])\n",
    "\n",
    "for i in tqdm(range(index.shape[0])):\n",
    "    if out[i] == 1:\n",
    "        finder_had.union(index[i,0], index[i,1])\n",
    "    if out[i] == 2:\n",
    "        finder_pho.union(index[i,0], index[i,1])\n",
    "    if out[i] == 3:\n",
    "        finder_mip.union(index[i,0], index[i,1])\n",
    "\n",
    "had_roots = np.array([finder_had.find(i) for i in range(X.shape[0])], dtype=np.uint32)\n",
    "pho_roots = np.array([finder_pho.find(i) for i in range(X.shape[0])], dtype=np.uint32)\n",
    "mip_roots = np.array([finder_mip.find(i) for i in range(X.shape[0])], dtype=np.uint32)\n"
   ]
  },
  {
   "cell_type": "code",
   "execution_count": null,
   "metadata": {},
   "outputs": [],
   "source": [
    "had_clusters = np.unique(had_roots, return_inverse=True, return_counts=True)\n",
    "pho_clusters = np.unique(pho_roots, return_inverse=True, return_counts=True)\n",
    "mip_clusters = np.unique(mip_roots, return_inverse=True, return_counts=True)\n",
    "\n",
    "hads = had_clusters[0][np.where(had_clusters[2] > 4)]\n",
    "ems = pho_clusters[0][np.where(pho_clusters[2] > 4)]\n",
    "mips = mip_clusters[0][np.where(mip_clusters[2] > 4)]\n",
    "\n",
    "had_clusters_sel = {i: np.where(had_roots == had)[0] for i, had in enumerate(hads)}\n",
    "em_clusters_sel = {i: np.where(pho_roots == em)[0] for i, em in enumerate(ems)}\n",
    "mip_clusters_sel = {i: np.where(mip_roots == mip)[0] for i, mip in enumerate(mips)}\n",
    "\n",
    "print(had_clusters_sel)\n",
    "print(em_clusters_sel)\n",
    "print(mip_clusters_sel)\n",
    "\n",
    "print(had_clusters[2][np.where(had_clusters[2] > 4)])\n",
    "print(pho_clusters[2][np.where(pho_clusters[2] > 4)])\n",
    "print(mip_clusters[2][np.where(mip_clusters[2] > 4)])"
   ]
  },
  {
   "cell_type": "code",
   "execution_count": null,
   "metadata": {
    "scrolled": false
   },
   "outputs": [],
   "source": [
    "import matplotlib.pyplot as plt\n",
    "from mpl_toolkits.mplot3d import Axes3D\n",
    "\n",
    "%matplotlib inline\n",
    "\n",
    "fig, ax = plt.subplots(3, 1, dpi=400, figsize=(10, 20))\n",
    "\n",
    "#ax.set_xlim(-500, 500)\n",
    "#ax.set_ylim(-500, 500)\n",
    "#ax.set_zlim(0, 54)\n",
    "ax[0].set_xlabel('Global X (cm)')\n",
    "ax[0].set_ylabel('Global Y (cm)')\n",
    "ax[0].set_xlim(-300, 300)\n",
    "ax[0].set_ylim(-300, 300)\n",
    "\n",
    "ax[1].set_xlabel('Global X (cm)')\n",
    "ax[1].set_ylabel('Layer (arb)')\n",
    "ax[1].set_xlim(-300, 300)\n",
    "ax[1].set_ylim(0, 54)\n",
    "\n",
    "ax[2].set_xlabel('Global Y (cm)')\n",
    "ax[2].set_ylabel('Layer (arb)')\n",
    "ax[2].set_xlim(-300, 300)\n",
    "ax[2].set_ylim(0, 54)\n",
    "#ax.set_zlabel('Layer (arb)')\n",
    "\n",
    "for k, clus in had_clusters_sel.items():\n",
    "    clu = X[clus]\n",
    "    ax[0].scatter(clu[:,0], clu[:,1], marker = '^')\n",
    "    ax[1].scatter(clu[:,0], clu[:,2], marker = '^')\n",
    "    ax[2].scatter(clu[:,1], clu[:,2], marker = '^')\n",
    "for k, clus in em_clusters_sel.items():\n",
    "    clu = X[clus]\n",
    "    ax[0].scatter(clu[:,0], clu[:,1], marker = 'o')\n",
    "    ax[1].scatter(clu[:,0], clu[:,2], marker = 'o')\n",
    "    ax[2].scatter(clu[:,1], clu[:,2], marker = 'o')\n",
    "for k, clus in mip_clusters_sel.items():\n",
    "    clu = X[clus]\n",
    "    ax[0].scatter(clu[:,0], clu[:,1], marker = '+')#, clu[:,2])\n",
    "    ax[1].scatter(clu[:,0], clu[:,2], marker = '+')#, clu[:,2])\n",
    "    ax[2].scatter(clu[:,1], clu[:,2], marker = '+')#, clu[:,2])"
   ]
  },
  {
   "cell_type": "code",
   "execution_count": null,
   "metadata": {},
   "outputs": [],
   "source": []
  }
 ],
 "metadata": {
  "kernelspec": {
   "display_name": "Python 3",
   "language": "python",
   "name": "python3"
  },
  "language_info": {
   "codemirror_mode": {
    "name": "ipython",
    "version": 3
   },
   "file_extension": ".py",
   "mimetype": "text/x-python",
   "name": "python",
   "nbconvert_exporter": "python",
   "pygments_lexer": "ipython3",
   "version": "3.6.10"
  }
 },
 "nbformat": 4,
 "nbformat_minor": 2
}
