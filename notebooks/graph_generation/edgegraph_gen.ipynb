{
 "cells": [
  {
   "cell_type": "code",
   "execution_count": 1,
   "metadata": {},
   "outputs": [],
   "source": [
    "import uproot\n",
    "import awkward\n",
    "import numpy as np\n",
    "import os\n",
    "from scipy.sparse import csr_matrix, find\n",
    "from scipy.spatial import cKDTree\n",
    "from tqdm import tqdm\n",
    "\n",
    "from datasets.graph import graph_to_sparse, save_graph\n",
    "\n",
    "from preprocessing import *\n",
    "import torch"
   ]
  },
  {
   "cell_type": "code",
   "execution_count": 2,
   "metadata": {},
   "outputs": [],
   "source": [
    "# for EdgeNet\n",
    "preprocessing_algo = make_graph_etaphi\n",
    "#preprocessing_algo = make_graph_xy\n",
    "grouping_algo = 'knn' #or 'kdtree'\n",
    "#grouping_algo = 'kdtree' #or 'kdtree'\n",
    "preprocessing_args= dict(k=10)\n",
    "#preprocessing_args= dict(r = 0.07) #if algo == 'kdtree'\n",
    "layer_norm = 150 #only used for etaphi, no effect for other preprocessors\n",
    "\n",
    "fname = '/home/sameasy2006/DATA/photon_hfntup_0to1000.root'\n",
    "\n",
    "test = uproot.open(fname)['ana']['hgc']\n",
    "\n",
    "#example of generating a binary ground-truth adjacency matrix \n",
    "#for both endcaps in all events for all clusters\n",
    "#truth is now that hits in adjacent layers are connected \n",
    "#and so are hits in the same layer within delta-R < 2 \n",
    "arrays = test.arrays([b'simcluster_hits_indices'])\n",
    "rechit = test.arrays([b'rechit_x',b'rechit_y', b'rechit_z', b'rechit_eta', b'rechit_phi',\n",
    "                      b'rechit_layer',b'rechit_time',b'rechit_energy'])\n",
    "NEvents = rechit[b'rechit_z'].shape[0]\n",
    "rechit[b'rechit_x'].content[rechit[b'rechit_z'].content < 0] *= -1\n",
    "rechit[b'rechit_layer'].content[rechit[b'rechit_layer'].content < 0] *= -9\n",
    "sim_indices = awkward.fromiter(arrays[b'simcluster_hits_indices'])\n",
    "valid_sim_indices = sim_indices[sim_indices > -1]\n"
   ]
  },
  {
   "cell_type": "code",
   "execution_count": 6,
   "metadata": {},
   "outputs": [
    {
     "data": {
      "text/plain": [
       "array([4, 4, 4, ..., 8, 4, 7])"
      ]
     },
     "execution_count": 6,
     "metadata": {},
     "output_type": "execute_result"
    }
   ],
   "source": [
    "sim_indices.counts"
   ]
  },
  {
   "cell_type": "code",
   "execution_count": 3,
   "metadata": {},
   "outputs": [
    {
     "name": "stderr",
     "output_type": "stream",
     "text": [
      "events processed: 100%|██████████| 7200/7200 [58:20<00:00,  2.06it/s] \n"
     ]
    }
   ],
   "source": [
    "for ievt in tqdm(range(NEvents),desc='events processed'):\n",
    "    #make input graphs\n",
    "    \n",
    "    # for EdgeNet\n",
    "    pos_graph = preprocessing_algo(rechit, valid_sim_indices, ievt = ievt, mask = rechit[b'rechit_z'][ievt] > 0,\n",
    "                                   layered_norm = layer_norm, algo=grouping_algo, preprocessing_args=preprocessing_args)\n",
    "    neg_graph = preprocessing_algo(rechit, valid_sim_indices, ievt = ievt, mask = rechit[b'rechit_z'][ievt] < 0,\n",
    "                                   layered_norm = layer_norm, algo=grouping_algo, preprocessing_args=preprocessing_args)\n",
    "    # for PointNet\n",
    "    #pos_graph = preprocessing_algo(rechit, valid_sim_indices, ievt = ievt, mask = rechit[b'rechit_z'][ievt] > 0)\n",
    "    #neg_graph = preprocessing_algo(rechit, valid_sim_indices, ievt = ievt, mask = rechit[b'rechit_z'][ievt] < 0)\n",
    "    \n",
    "    #write the graph and truth graph out\n",
    "    outbase = fname.split('/')[-1].replace('.root','')\n",
    "#    outdir = \"/\".join(fname.split('/')[:-2]) + \"/npz/\" + outbase + \"/raw\"\n",
    "    outdir = \"/\".join(fname.split('/')[:-2]) + \"/npz10/\" + outbase + \"/raw\"\n",
    "    if not os.path.exists( outdir):\n",
    "        os.makedirs(outdir)\n",
    "\n",
    "    # for EdgeNet\n",
    "    save_graph(pos_graph, '%s/%s_hgcal_graph_pos_evt%d.npz'%(outdir,outbase,ievt))\n",
    "    save_graph(neg_graph, '%s/%s_hgcal_graph_neg_evt%d.npz'%(outdir,outbase,ievt))\n",
    "    #saved as sparse\n",
    "    \n",
    "    # for PointNet\n",
    "    #save_graph(pos_graph, '%s/%s_hgcal_graph_pos_evt%d.npz'%(outdir,outbase,ievt))\n",
    "    #save_graph(neg_graph, '%s/%s_hgcal_graph_neg_evt%d.npz'%(outdir,outbase,ievt))"
   ]
  },
  {
   "cell_type": "code",
   "execution_count": null,
   "metadata": {},
   "outputs": [],
   "source": []
  }
 ],
 "metadata": {
  "kernelspec": {
   "display_name": "Python 3",
   "language": "python",
   "name": "python3"
  },
  "language_info": {
   "codemirror_mode": {
    "name": "ipython",
    "version": 3
   },
   "file_extension": ".py",
   "mimetype": "text/x-python",
   "name": "python",
   "nbconvert_exporter": "python",
   "pygments_lexer": "ipython3",
   "version": "3.6.10"
  }
 },
 "nbformat": 4,
 "nbformat_minor": 4
}
