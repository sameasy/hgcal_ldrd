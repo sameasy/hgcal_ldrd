{
 "cells": [
  {
   "cell_type": "code",
   "execution_count": 1,
   "metadata": {},
   "outputs": [],
   "source": [
    "import uproot"
   ]
  },
  {
   "cell_type": "code",
   "execution_count": 2,
   "metadata": {},
   "outputs": [
    {
     "name": "stdout",
     "output_type": "stream",
     "text": [
      "<class 'str'>\n"
     ]
    }
   ],
   "source": [
    "import uproot\n",
    "import awkward\n",
    "import numpy as np\n",
    "from scipy.sparse import csr_matrix, find\n",
    "from scipy.spatial import cKDTree\n",
    "from tqdm import tqdm_notebook as tqdm\n",
    "\n",
    "\n",
    "import os\n",
    "import os.path as osp\n",
    "\n",
    "#print(os.environ['GNN_TRAINING_DATA_ROOT'])\n",
    "\n",
    "fname = '/home/sameasy2006/DATA/pion_hgctup_0to1000.root'\n",
    "\n",
    "print(type(fname))\n",
    "\n",
    "test = uproot.open(fname)['ana']['hgc']\n",
    "\n",
    "#%load_ext autoreload\n",
    "#%autoreload 2\n",
    "import torch"
   ]
  },
  {
   "cell_type": "code",
   "execution_count": 3,
   "metadata": {},
   "outputs": [],
   "source": [
    "from scipy.sparse import coo_matrix # to encode the cluster mappings\n",
    "from sklearn.neighbors import NearestNeighbors\n",
    "from datasets.graph import Graph\n",
    "from datasets.graph import graph_to_sparse, save_graph\n",
    "\n",
    "sim_indices = awkward.fromiter(test['simcluster_hits_indices'].array())\n",
    "sim_indices = sim_indices[sim_indices > -1].compact()\n",
    "\n",
    "sim_energy = test['simcluster_energy'].array()\n",
    "sim_pid = test['simcluster_pid'].array()\n",
    "\n",
    "rechit_layer = test['rechit_layer'].array()\n",
    "rechit_time = test['rechit_time'].array()\n",
    "rechit_energy = test['rechit_energy'].array()\n",
    "\n",
    "rechit_x = test['rechit_x'].array()\n",
    "rechit_y = test['rechit_y'].array()\n",
    "rechit_z = test['rechit_z'].array()\n",
    "#rechit['rechit_layer'].content[rechit['rechit_layer'].content < 0] *= -9\n",
    "rechit_x.content[rechit_z.content < 0] *= -1"
   ]
  },
  {
   "cell_type": "code",
   "execution_count": 26,
   "metadata": {},
   "outputs": [
    {
     "name": "stdout",
     "output_type": "stream",
     "text": [
      "2\n",
      "[ 211 -211]\n",
      "[705.9553 705.9553]\n"
     ]
    }
   ],
   "source": [
    "evt = 90\n",
    "print(len(sim_indices[evt]))\n",
    "print(sim_pid[evt])\n",
    "print(sim_energy[evt])"
   ]
  },
  {
   "cell_type": "code",
   "execution_count": 27,
   "metadata": {},
   "outputs": [
    {
     "name": "stdout",
     "output_type": "stream",
     "text": [
      "[ 211 -211]\n",
      "[705.9553 705.9553]\n"
     ]
    }
   ],
   "source": [
    "gen_pid = test['genpart_pid'].array()\n",
    "print(gen_pid[evt])\n",
    "gen_en = test['genpart_energy'].array()\n",
    "print(gen_en[evt])"
   ]
  },
  {
   "cell_type": "code",
   "execution_count": 4,
   "metadata": {},
   "outputs": [],
   "source": [
    "outbase = fname.split('/')[-1].replace('.root','')\n",
    "outdir = \"/\".join(fname.split('/')[:-2]) + \"/npz_hgcal_k8/\" + outbase+\"/raw\""
   ]
  },
  {
   "cell_type": "code",
   "execution_count": 5,
   "metadata": {},
   "outputs": [
    {
     "data": {
      "text/plain": [
       "'/home/sameasy2006/npz_hgcal_k8/pion_hgctup_0to1000/raw'"
      ]
     },
     "execution_count": 5,
     "metadata": {},
     "output_type": "execute_result"
    }
   ],
   "source": [
    "outdir"
   ]
  },
  {
   "cell_type": "code",
   "execution_count": 8,
   "metadata": {},
   "outputs": [
    {
     "name": "stderr",
     "output_type": "stream",
     "text": [
      "/home/sameasy2006/miniconda3/envs/mlgnn/lib/python3.6/site-packages/ipykernel_launcher.py:70: TqdmDeprecationWarning: This function will be removed in tqdm==5.0.0\n",
      "Please use `tqdm.notebook.tqdm` instead of `tqdm.tqdm_notebook`\n"
     ]
    },
    {
     "data": {
      "application/vnd.jupyter.widget-view+json": {
       "model_id": "5dc2c2922227469799aeb87699b06e0e",
       "version_major": 2,
       "version_minor": 0
      },
      "text/plain": [
       "HBox(children=(FloatProgress(value=0.0, description='events processed', max=10000.0, style=ProgressStyle(descr…"
      ]
     },
     "metadata": {},
     "output_type": "display_data"
    },
    {
     "name": "stdout",
     "output_type": "stream",
     "text": [
      "[1 1 1 ... 0 0 0]\n",
      "[0 2 0 ... 0 0 0]\n",
      "[1 1 1 ... 0 0 0]\n",
      "[1 1 1 ... 0 0 0]\n",
      "[1 1 1 ... 0 0 0]\n",
      "[1 1 1 ... 0 0 0]\n",
      "[1 1 0 ... 0 0 0]\n",
      "[1 1 1 ... 0 0 0]\n",
      "[1 1 1 ... 0 0 0]\n",
      "[1 1 1 ... 0 0 0]\n",
      "[1 1 1 ... 1 1 1]\n",
      "[0 0 0 ... 0 0 0]\n",
      "[1 1 1 ... 0 0 0]\n",
      "[1 1 1 ... 0 0 0]\n",
      "[2 2 0 ... 0 0 0]\n",
      "[1 1 1 ... 1 1 1]\n",
      "[0 0 1 ... 0 0 0]\n",
      "[1 1 1 ... 0 0 0]\n"
     ]
    },
    {
     "ename": "KeyboardInterrupt",
     "evalue": "",
     "output_type": "error",
     "traceback": [
      "\u001b[0;31m---------------------------------------------------------------------------\u001b[0m",
      "\u001b[0;31mKeyboardInterrupt\u001b[0m                         Traceback (most recent call last)",
      "\u001b[0;32m<ipython-input-8-0e54c57f284c>\u001b[0m in \u001b[0;36m<module>\u001b[0;34m\u001b[0m\n\u001b[1;32m    122\u001b[0m     \u001b[0;31m# 0 = invalid edge, 1 = hadronic edge, 2 = EM edge, 3 = MIP edge\u001b[0m\u001b[0;34m\u001b[0m\u001b[0;34m\u001b[0m\u001b[0;34m\u001b[0m\u001b[0m\n\u001b[1;32m    123\u001b[0m     \u001b[0mpos_Ri\u001b[0m\u001b[0;34m,\u001b[0m \u001b[0mpos_Ro\u001b[0m\u001b[0;34m,\u001b[0m \u001b[0mpos_y\u001b[0m \u001b[0;34m=\u001b[0m \u001b[0mget_neighbours\u001b[0m\u001b[0;34m(\u001b[0m\u001b[0mpos_coords\u001b[0m\u001b[0;34m,\u001b[0m \u001b[0mpos_indices\u001b[0m\u001b[0;34m,\u001b[0m \u001b[0mhits_to_clusters\u001b[0m\u001b[0;34m)\u001b[0m\u001b[0;34m\u001b[0m\u001b[0;34m\u001b[0m\u001b[0m\n\u001b[0;32m--> 124\u001b[0;31m     \u001b[0mneg_Ri\u001b[0m\u001b[0;34m,\u001b[0m \u001b[0mneg_Ro\u001b[0m\u001b[0;34m,\u001b[0m \u001b[0mneg_y\u001b[0m \u001b[0;34m=\u001b[0m \u001b[0mget_neighbours\u001b[0m\u001b[0;34m(\u001b[0m\u001b[0mneg_coords\u001b[0m\u001b[0;34m,\u001b[0m \u001b[0mneg_indices\u001b[0m\u001b[0;34m,\u001b[0m \u001b[0mhits_to_clusters\u001b[0m\u001b[0;34m)\u001b[0m\u001b[0;34m\u001b[0m\u001b[0;34m\u001b[0m\u001b[0m\n\u001b[0m\u001b[1;32m    125\u001b[0m \u001b[0;34m\u001b[0m\u001b[0m\n\u001b[1;32m    126\u001b[0m     \u001b[0mprint\u001b[0m\u001b[0;34m(\u001b[0m\u001b[0mpos_y\u001b[0m\u001b[0;34m)\u001b[0m\u001b[0;34m\u001b[0m\u001b[0;34m\u001b[0m\u001b[0m\n",
      "\u001b[0;32m<ipython-input-8-0e54c57f284c>\u001b[0m in \u001b[0;36mget_neighbours\u001b[0;34m(coords, map_idx, cluster_truth)\u001b[0m\n\u001b[1;32m     15\u001b[0m \u001b[0;32mdef\u001b[0m \u001b[0mget_neighbours\u001b[0m\u001b[0;34m(\u001b[0m\u001b[0mcoords\u001b[0m\u001b[0;34m,\u001b[0m \u001b[0mmap_idx\u001b[0m\u001b[0;34m,\u001b[0m \u001b[0mcluster_truth\u001b[0m\u001b[0;34m)\u001b[0m\u001b[0;34m:\u001b[0m\u001b[0;34m\u001b[0m\u001b[0;34m\u001b[0m\u001b[0m\n\u001b[1;32m     16\u001b[0m     \u001b[0mnbrs\u001b[0m \u001b[0;34m=\u001b[0m \u001b[0mNearestNeighbors\u001b[0m\u001b[0;34m(\u001b[0m\u001b[0malgorithm\u001b[0m\u001b[0;34m=\u001b[0m\u001b[0;34m'kd_tree'\u001b[0m\u001b[0;34m)\u001b[0m\u001b[0;34m.\u001b[0m\u001b[0mfit\u001b[0m\u001b[0;34m(\u001b[0m\u001b[0mcoords\u001b[0m\u001b[0;34m)\u001b[0m\u001b[0;34m\u001b[0m\u001b[0;34m\u001b[0m\u001b[0m\n\u001b[0;32m---> 17\u001b[0;31m     \u001b[0mnbrs_sm\u001b[0m \u001b[0;34m=\u001b[0m \u001b[0mnbrs\u001b[0m\u001b[0;34m.\u001b[0m\u001b[0mkneighbors_graph\u001b[0m\u001b[0;34m(\u001b[0m\u001b[0mcoords\u001b[0m\u001b[0;34m,\u001b[0m \u001b[0;36m8\u001b[0m\u001b[0;34m)\u001b[0m\u001b[0;34m\u001b[0m\u001b[0;34m\u001b[0m\u001b[0m\n\u001b[0m\u001b[1;32m     18\u001b[0m     \u001b[0mnbrs_sm\u001b[0m\u001b[0;34m.\u001b[0m\u001b[0msetdiag\u001b[0m\u001b[0;34m(\u001b[0m\u001b[0;36m0\u001b[0m\u001b[0;34m)\u001b[0m \u001b[0;31m#remove self-loop edges\u001b[0m\u001b[0;34m\u001b[0m\u001b[0;34m\u001b[0m\u001b[0m\n\u001b[1;32m     19\u001b[0m     \u001b[0mnbrs_sm\u001b[0m\u001b[0;34m.\u001b[0m\u001b[0meliminate_zeros\u001b[0m\u001b[0;34m(\u001b[0m\u001b[0;34m)\u001b[0m\u001b[0;34m\u001b[0m\u001b[0;34m\u001b[0m\u001b[0m\n",
      "\u001b[0;32m~/miniconda3/envs/mlgnn/lib/python3.6/site-packages/sklearn/neighbors/_base.py\u001b[0m in \u001b[0;36mkneighbors_graph\u001b[0;34m(self, X, n_neighbors, mode)\u001b[0m\n\u001b[1;32m    755\u001b[0m         \u001b[0;31m# construct CSR matrix representation of the k-NN graph\u001b[0m\u001b[0;34m\u001b[0m\u001b[0;34m\u001b[0m\u001b[0;34m\u001b[0m\u001b[0m\n\u001b[1;32m    756\u001b[0m         \u001b[0;32mif\u001b[0m \u001b[0mmode\u001b[0m \u001b[0;34m==\u001b[0m \u001b[0;34m'connectivity'\u001b[0m\u001b[0;34m:\u001b[0m\u001b[0;34m\u001b[0m\u001b[0;34m\u001b[0m\u001b[0m\n\u001b[0;32m--> 757\u001b[0;31m             \u001b[0mA_ind\u001b[0m \u001b[0;34m=\u001b[0m \u001b[0mself\u001b[0m\u001b[0;34m.\u001b[0m\u001b[0mkneighbors\u001b[0m\u001b[0;34m(\u001b[0m\u001b[0mX\u001b[0m\u001b[0;34m,\u001b[0m \u001b[0mn_neighbors\u001b[0m\u001b[0;34m,\u001b[0m \u001b[0mreturn_distance\u001b[0m\u001b[0;34m=\u001b[0m\u001b[0;32mFalse\u001b[0m\u001b[0;34m)\u001b[0m\u001b[0;34m\u001b[0m\u001b[0;34m\u001b[0m\u001b[0m\n\u001b[0m\u001b[1;32m    758\u001b[0m             \u001b[0mn_queries\u001b[0m \u001b[0;34m=\u001b[0m \u001b[0mA_ind\u001b[0m\u001b[0;34m.\u001b[0m\u001b[0mshape\u001b[0m\u001b[0;34m[\u001b[0m\u001b[0;36m0\u001b[0m\u001b[0;34m]\u001b[0m\u001b[0;34m\u001b[0m\u001b[0;34m\u001b[0m\u001b[0m\n\u001b[1;32m    759\u001b[0m             \u001b[0mA_data\u001b[0m \u001b[0;34m=\u001b[0m \u001b[0mnp\u001b[0m\u001b[0;34m.\u001b[0m\u001b[0mones\u001b[0m\u001b[0;34m(\u001b[0m\u001b[0mn_queries\u001b[0m \u001b[0;34m*\u001b[0m \u001b[0mn_neighbors\u001b[0m\u001b[0;34m)\u001b[0m\u001b[0;34m\u001b[0m\u001b[0;34m\u001b[0m\u001b[0m\n",
      "\u001b[0;32m~/miniconda3/envs/mlgnn/lib/python3.6/site-packages/sklearn/neighbors/_base.py\u001b[0m in \u001b[0;36mkneighbors\u001b[0;34m(self, X, n_neighbors, return_distance)\u001b[0m\n\u001b[1;32m    661\u001b[0m                 delayed_query(\n\u001b[1;32m    662\u001b[0m                     self._tree, X[s], n_neighbors, return_distance)\n\u001b[0;32m--> 663\u001b[0;31m                 \u001b[0;32mfor\u001b[0m \u001b[0ms\u001b[0m \u001b[0;32min\u001b[0m \u001b[0mgen_even_slices\u001b[0m\u001b[0;34m(\u001b[0m\u001b[0mX\u001b[0m\u001b[0;34m.\u001b[0m\u001b[0mshape\u001b[0m\u001b[0;34m[\u001b[0m\u001b[0;36m0\u001b[0m\u001b[0;34m]\u001b[0m\u001b[0;34m,\u001b[0m \u001b[0mn_jobs\u001b[0m\u001b[0;34m)\u001b[0m\u001b[0;34m\u001b[0m\u001b[0;34m\u001b[0m\u001b[0m\n\u001b[0m\u001b[1;32m    664\u001b[0m             )\n\u001b[1;32m    665\u001b[0m         \u001b[0;32melse\u001b[0m\u001b[0;34m:\u001b[0m\u001b[0;34m\u001b[0m\u001b[0;34m\u001b[0m\u001b[0m\n",
      "\u001b[0;32m~/miniconda3/envs/mlgnn/lib/python3.6/site-packages/joblib/parallel.py\u001b[0m in \u001b[0;36m__call__\u001b[0;34m(self, iterable)\u001b[0m\n\u001b[1;32m   1002\u001b[0m             \u001b[0;31m# remaining jobs.\u001b[0m\u001b[0;34m\u001b[0m\u001b[0;34m\u001b[0m\u001b[0;34m\u001b[0m\u001b[0m\n\u001b[1;32m   1003\u001b[0m             \u001b[0mself\u001b[0m\u001b[0;34m.\u001b[0m\u001b[0m_iterating\u001b[0m \u001b[0;34m=\u001b[0m \u001b[0;32mFalse\u001b[0m\u001b[0;34m\u001b[0m\u001b[0;34m\u001b[0m\u001b[0m\n\u001b[0;32m-> 1004\u001b[0;31m             \u001b[0;32mif\u001b[0m \u001b[0mself\u001b[0m\u001b[0;34m.\u001b[0m\u001b[0mdispatch_one_batch\u001b[0m\u001b[0;34m(\u001b[0m\u001b[0miterator\u001b[0m\u001b[0;34m)\u001b[0m\u001b[0;34m:\u001b[0m\u001b[0;34m\u001b[0m\u001b[0;34m\u001b[0m\u001b[0m\n\u001b[0m\u001b[1;32m   1005\u001b[0m                 \u001b[0mself\u001b[0m\u001b[0;34m.\u001b[0m\u001b[0m_iterating\u001b[0m \u001b[0;34m=\u001b[0m \u001b[0mself\u001b[0m\u001b[0;34m.\u001b[0m\u001b[0m_original_iterator\u001b[0m \u001b[0;32mis\u001b[0m \u001b[0;32mnot\u001b[0m \u001b[0;32mNone\u001b[0m\u001b[0;34m\u001b[0m\u001b[0;34m\u001b[0m\u001b[0m\n\u001b[1;32m   1006\u001b[0m \u001b[0;34m\u001b[0m\u001b[0m\n",
      "\u001b[0;32m~/miniconda3/envs/mlgnn/lib/python3.6/site-packages/joblib/parallel.py\u001b[0m in \u001b[0;36mdispatch_one_batch\u001b[0;34m(self, iterator)\u001b[0m\n\u001b[1;32m    833\u001b[0m                 \u001b[0;32mreturn\u001b[0m \u001b[0;32mFalse\u001b[0m\u001b[0;34m\u001b[0m\u001b[0;34m\u001b[0m\u001b[0m\n\u001b[1;32m    834\u001b[0m             \u001b[0;32melse\u001b[0m\u001b[0;34m:\u001b[0m\u001b[0;34m\u001b[0m\u001b[0;34m\u001b[0m\u001b[0m\n\u001b[0;32m--> 835\u001b[0;31m                 \u001b[0mself\u001b[0m\u001b[0;34m.\u001b[0m\u001b[0m_dispatch\u001b[0m\u001b[0;34m(\u001b[0m\u001b[0mtasks\u001b[0m\u001b[0;34m)\u001b[0m\u001b[0;34m\u001b[0m\u001b[0;34m\u001b[0m\u001b[0m\n\u001b[0m\u001b[1;32m    836\u001b[0m                 \u001b[0;32mreturn\u001b[0m \u001b[0;32mTrue\u001b[0m\u001b[0;34m\u001b[0m\u001b[0;34m\u001b[0m\u001b[0m\n\u001b[1;32m    837\u001b[0m \u001b[0;34m\u001b[0m\u001b[0m\n",
      "\u001b[0;32m~/miniconda3/envs/mlgnn/lib/python3.6/site-packages/joblib/parallel.py\u001b[0m in \u001b[0;36m_dispatch\u001b[0;34m(self, batch)\u001b[0m\n\u001b[1;32m    752\u001b[0m         \u001b[0;32mwith\u001b[0m \u001b[0mself\u001b[0m\u001b[0;34m.\u001b[0m\u001b[0m_lock\u001b[0m\u001b[0;34m:\u001b[0m\u001b[0;34m\u001b[0m\u001b[0;34m\u001b[0m\u001b[0m\n\u001b[1;32m    753\u001b[0m             \u001b[0mjob_idx\u001b[0m \u001b[0;34m=\u001b[0m \u001b[0mlen\u001b[0m\u001b[0;34m(\u001b[0m\u001b[0mself\u001b[0m\u001b[0;34m.\u001b[0m\u001b[0m_jobs\u001b[0m\u001b[0;34m)\u001b[0m\u001b[0;34m\u001b[0m\u001b[0;34m\u001b[0m\u001b[0m\n\u001b[0;32m--> 754\u001b[0;31m             \u001b[0mjob\u001b[0m \u001b[0;34m=\u001b[0m \u001b[0mself\u001b[0m\u001b[0;34m.\u001b[0m\u001b[0m_backend\u001b[0m\u001b[0;34m.\u001b[0m\u001b[0mapply_async\u001b[0m\u001b[0;34m(\u001b[0m\u001b[0mbatch\u001b[0m\u001b[0;34m,\u001b[0m \u001b[0mcallback\u001b[0m\u001b[0;34m=\u001b[0m\u001b[0mcb\u001b[0m\u001b[0;34m)\u001b[0m\u001b[0;34m\u001b[0m\u001b[0;34m\u001b[0m\u001b[0m\n\u001b[0m\u001b[1;32m    755\u001b[0m             \u001b[0;31m# A job can complete so quickly than its callback is\u001b[0m\u001b[0;34m\u001b[0m\u001b[0;34m\u001b[0m\u001b[0;34m\u001b[0m\u001b[0m\n\u001b[1;32m    756\u001b[0m             \u001b[0;31m# called before we get here, causing self._jobs to\u001b[0m\u001b[0;34m\u001b[0m\u001b[0;34m\u001b[0m\u001b[0;34m\u001b[0m\u001b[0m\n",
      "\u001b[0;32m~/miniconda3/envs/mlgnn/lib/python3.6/site-packages/joblib/_parallel_backends.py\u001b[0m in \u001b[0;36mapply_async\u001b[0;34m(self, func, callback)\u001b[0m\n\u001b[1;32m    207\u001b[0m     \u001b[0;32mdef\u001b[0m \u001b[0mapply_async\u001b[0m\u001b[0;34m(\u001b[0m\u001b[0mself\u001b[0m\u001b[0;34m,\u001b[0m \u001b[0mfunc\u001b[0m\u001b[0;34m,\u001b[0m \u001b[0mcallback\u001b[0m\u001b[0;34m=\u001b[0m\u001b[0;32mNone\u001b[0m\u001b[0;34m)\u001b[0m\u001b[0;34m:\u001b[0m\u001b[0;34m\u001b[0m\u001b[0;34m\u001b[0m\u001b[0m\n\u001b[1;32m    208\u001b[0m         \u001b[0;34m\"\"\"Schedule a func to be run\"\"\"\u001b[0m\u001b[0;34m\u001b[0m\u001b[0;34m\u001b[0m\u001b[0m\n\u001b[0;32m--> 209\u001b[0;31m         \u001b[0mresult\u001b[0m \u001b[0;34m=\u001b[0m \u001b[0mImmediateResult\u001b[0m\u001b[0;34m(\u001b[0m\u001b[0mfunc\u001b[0m\u001b[0;34m)\u001b[0m\u001b[0;34m\u001b[0m\u001b[0;34m\u001b[0m\u001b[0m\n\u001b[0m\u001b[1;32m    210\u001b[0m         \u001b[0;32mif\u001b[0m \u001b[0mcallback\u001b[0m\u001b[0;34m:\u001b[0m\u001b[0;34m\u001b[0m\u001b[0;34m\u001b[0m\u001b[0m\n\u001b[1;32m    211\u001b[0m             \u001b[0mcallback\u001b[0m\u001b[0;34m(\u001b[0m\u001b[0mresult\u001b[0m\u001b[0;34m)\u001b[0m\u001b[0;34m\u001b[0m\u001b[0;34m\u001b[0m\u001b[0m\n",
      "\u001b[0;32m~/miniconda3/envs/mlgnn/lib/python3.6/site-packages/joblib/_parallel_backends.py\u001b[0m in \u001b[0;36m__init__\u001b[0;34m(self, batch)\u001b[0m\n\u001b[1;32m    588\u001b[0m         \u001b[0;31m# Don't delay the application, to avoid keeping the input\u001b[0m\u001b[0;34m\u001b[0m\u001b[0;34m\u001b[0m\u001b[0;34m\u001b[0m\u001b[0m\n\u001b[1;32m    589\u001b[0m         \u001b[0;31m# arguments in memory\u001b[0m\u001b[0;34m\u001b[0m\u001b[0;34m\u001b[0m\u001b[0;34m\u001b[0m\u001b[0m\n\u001b[0;32m--> 590\u001b[0;31m         \u001b[0mself\u001b[0m\u001b[0;34m.\u001b[0m\u001b[0mresults\u001b[0m \u001b[0;34m=\u001b[0m \u001b[0mbatch\u001b[0m\u001b[0;34m(\u001b[0m\u001b[0;34m)\u001b[0m\u001b[0;34m\u001b[0m\u001b[0;34m\u001b[0m\u001b[0m\n\u001b[0m\u001b[1;32m    591\u001b[0m \u001b[0;34m\u001b[0m\u001b[0m\n\u001b[1;32m    592\u001b[0m     \u001b[0;32mdef\u001b[0m \u001b[0mget\u001b[0m\u001b[0;34m(\u001b[0m\u001b[0mself\u001b[0m\u001b[0;34m)\u001b[0m\u001b[0;34m:\u001b[0m\u001b[0;34m\u001b[0m\u001b[0;34m\u001b[0m\u001b[0m\n",
      "\u001b[0;32m~/miniconda3/envs/mlgnn/lib/python3.6/site-packages/joblib/parallel.py\u001b[0m in \u001b[0;36m__call__\u001b[0;34m(self)\u001b[0m\n\u001b[1;32m    254\u001b[0m         \u001b[0;32mwith\u001b[0m \u001b[0mparallel_backend\u001b[0m\u001b[0;34m(\u001b[0m\u001b[0mself\u001b[0m\u001b[0;34m.\u001b[0m\u001b[0m_backend\u001b[0m\u001b[0;34m,\u001b[0m \u001b[0mn_jobs\u001b[0m\u001b[0;34m=\u001b[0m\u001b[0mself\u001b[0m\u001b[0;34m.\u001b[0m\u001b[0m_n_jobs\u001b[0m\u001b[0;34m)\u001b[0m\u001b[0;34m:\u001b[0m\u001b[0;34m\u001b[0m\u001b[0;34m\u001b[0m\u001b[0m\n\u001b[1;32m    255\u001b[0m             return [func(*args, **kwargs)\n\u001b[0;32m--> 256\u001b[0;31m                     for func, args, kwargs in self.items]\n\u001b[0m\u001b[1;32m    257\u001b[0m \u001b[0;34m\u001b[0m\u001b[0m\n\u001b[1;32m    258\u001b[0m     \u001b[0;32mdef\u001b[0m \u001b[0m__len__\u001b[0m\u001b[0;34m(\u001b[0m\u001b[0mself\u001b[0m\u001b[0;34m)\u001b[0m\u001b[0;34m:\u001b[0m\u001b[0;34m\u001b[0m\u001b[0;34m\u001b[0m\u001b[0m\n",
      "\u001b[0;32m~/miniconda3/envs/mlgnn/lib/python3.6/site-packages/joblib/parallel.py\u001b[0m in \u001b[0;36m<listcomp>\u001b[0;34m(.0)\u001b[0m\n\u001b[1;32m    254\u001b[0m         \u001b[0;32mwith\u001b[0m \u001b[0mparallel_backend\u001b[0m\u001b[0;34m(\u001b[0m\u001b[0mself\u001b[0m\u001b[0;34m.\u001b[0m\u001b[0m_backend\u001b[0m\u001b[0;34m,\u001b[0m \u001b[0mn_jobs\u001b[0m\u001b[0;34m=\u001b[0m\u001b[0mself\u001b[0m\u001b[0;34m.\u001b[0m\u001b[0m_n_jobs\u001b[0m\u001b[0;34m)\u001b[0m\u001b[0;34m:\u001b[0m\u001b[0;34m\u001b[0m\u001b[0;34m\u001b[0m\u001b[0m\n\u001b[1;32m    255\u001b[0m             return [func(*args, **kwargs)\n\u001b[0;32m--> 256\u001b[0;31m                     for func, args, kwargs in self.items]\n\u001b[0m\u001b[1;32m    257\u001b[0m \u001b[0;34m\u001b[0m\u001b[0m\n\u001b[1;32m    258\u001b[0m     \u001b[0;32mdef\u001b[0m \u001b[0m__len__\u001b[0m\u001b[0;34m(\u001b[0m\u001b[0mself\u001b[0m\u001b[0;34m)\u001b[0m\u001b[0;34m:\u001b[0m\u001b[0;34m\u001b[0m\u001b[0;34m\u001b[0m\u001b[0m\n",
      "\u001b[0;32m~/miniconda3/envs/mlgnn/lib/python3.6/site-packages/sklearn/neighbors/_base.py\u001b[0m in \u001b[0;36m_tree_query_parallel_helper\u001b[0;34m(tree, *args, **kwargs)\u001b[0m\n\u001b[1;32m    488\u001b[0m     \u001b[0munder\u001b[0m \u001b[0mPyPy\u001b[0m\u001b[0;34m.\u001b[0m\u001b[0;34m\u001b[0m\u001b[0;34m\u001b[0m\u001b[0m\n\u001b[1;32m    489\u001b[0m     \"\"\"\n\u001b[0;32m--> 490\u001b[0;31m     \u001b[0;32mreturn\u001b[0m \u001b[0mtree\u001b[0m\u001b[0;34m.\u001b[0m\u001b[0mquery\u001b[0m\u001b[0;34m(\u001b[0m\u001b[0;34m*\u001b[0m\u001b[0margs\u001b[0m\u001b[0;34m,\u001b[0m \u001b[0;34m**\u001b[0m\u001b[0mkwargs\u001b[0m\u001b[0;34m)\u001b[0m\u001b[0;34m\u001b[0m\u001b[0;34m\u001b[0m\u001b[0m\n\u001b[0m\u001b[1;32m    491\u001b[0m \u001b[0;34m\u001b[0m\u001b[0m\n\u001b[1;32m    492\u001b[0m \u001b[0;34m\u001b[0m\u001b[0m\n",
      "\u001b[0;31mKeyboardInterrupt\u001b[0m: "
     ]
    }
   ],
   "source": [
    "def get_category(pid):\n",
    "    cats = np.zeros_like(pid) # 1 are hadrons\n",
    "    cats[(pid == 22) | (np.abs(pid) == 11) | (pid == 111)] = 1 # 2 are EM showers\n",
    "    cats[np.abs(pid) == 13] = 2 #3 are MIPs\n",
    "    return (cats+1) # category zero are the noise hits\n",
    "\n",
    "def get_features(ievt, mask):\n",
    "    x = rechit_x[ievt][mask]\n",
    "    y = rechit_y[ievt][mask]\n",
    "    layer = rechit_layer[ievt][mask]\n",
    "    time = rechit_time[ievt][mask]\n",
    "    energy = rechit_energy[ievt][mask]    \n",
    "    return np.stack((x,y,layer,time,energy)).T.astype(np.float32)\n",
    "\n",
    "def get_neighbours(coords, map_idx, cluster_truth):\n",
    "    nbrs = NearestNeighbors(algorithm='kd_tree').fit(coords)\n",
    "    nbrs_sm = nbrs.kneighbors_graph(coords, 8)\n",
    "    nbrs_sm.setdiag(0) #remove self-loop edges\n",
    "    nbrs_sm.eliminate_zeros() \n",
    "    nbrs_sm = nbrs_sm + nbrs_sm.T\n",
    "    pairs_sel = np.array(nbrs_sm.nonzero()).T\n",
    "    data_sel = np.ones(pairs_sel.shape[0])\n",
    "        \n",
    "    #print(data_sel.shape)    \n",
    "    #print(cluster_truth.shape)\n",
    "    \n",
    "    \n",
    "    #map to absolute index\n",
    "    #print('relative indices',pairs_sel)\n",
    "    pairs_sel_abs = map_idx[pairs_sel]\n",
    "    #print('absolute indices',pairs_sel_abs)\n",
    "        \n",
    "    #get the types of the clusters for these edges\n",
    "    incoming = cluster_truth[pairs_sel_abs[:,1],:]    \n",
    "    outgoing = cluster_truth[pairs_sel_abs[:,0],:]\n",
    "\n",
    "    #print('truth shape',incoming.shape)\n",
    "    #print('truth shape',outgoing.shape)    \n",
    "    \n",
    "    #determine determine all edges where each edge\n",
    "    #has the same non-zero category\n",
    "    hads = (incoming == 1).multiply(outgoing == 1)\n",
    "    ems = (incoming == 2).multiply(outgoing == 2)\n",
    "    mips = (incoming == 3).multiply(outgoing == 3)\n",
    "    \n",
    "    #print('hads',hads.todense())\n",
    "    #print('ems',ems.todense())\n",
    "    #print('mips',mips.todense())\n",
    "    \n",
    "    tot = (hads + ems + mips).nonzero()\n",
    "\n",
    "    #print('tot',np.unique(tot[1],return_counts=True))\n",
    "    \n",
    "    #prepare the input and output matrices (already need to store sparse)\n",
    "    r_shape = (coords.shape[0],pairs_sel.shape[0])\n",
    "    eye_edges = np.arange(pairs_sel.shape[0])\n",
    "    \n",
    "    R_i = csr_matrix((data_sel,(pairs_sel[:,1],eye_edges)), r_shape, dtype=np.uint8)\n",
    "    R_o = csr_matrix((data_sel,(pairs_sel[:,0],eye_edges)), r_shape, dtype=np.uint8)\n",
    "    \n",
    "    # if you address the incoming edge by the outgoing index then the edge connects two\n",
    "    # hits in the same sim-cluster\n",
    "    y = np.zeros(shape=pairs_sel.shape[0], dtype=np.int8)\n",
    "    truth = np.squeeze(np.asarray(incoming[tot[0],tot[1]]))\n",
    "    if tot[0].size > 0 and tot[1].size > 0:\n",
    "        y[tot[0]] = truth\n",
    "    \n",
    "    return R_i, R_o, y\n",
    "\n",
    "for i in tqdm(range(rechit_z.size),desc='events processed'): #\n",
    "        \n",
    "    cluster_cats = get_category(sim_pid[i])\n",
    "            \n",
    "    sim_indices_cpt = awkward.fromiter(sim_indices[i])\n",
    "    if isinstance(sim_indices_cpt, np.ndarray):\n",
    "        if sim_indices_cpt.size == 0: #skip events that are all noise, they're meaningless anyway\n",
    "            continue\n",
    "        else:\n",
    "            sim_indices_cpt = awkward.JaggedArray.fromcounts([sim_indices_cpt.size],sim_indices_cpt)\n",
    "    hits_in_clus = sim_indices_cpt.flatten()\n",
    "    hit_to_clus = sim_indices_cpt.parents\n",
    "    #print(hit_to_clus)\n",
    "    #print(np.unique(hit_to_clus,return_counts=True))\n",
    "    # 0 = invalid edge, 1 = hadronic edge, 2 = EM edge, 3 = MIP edge \n",
    "    cats_per_hit = cluster_cats[hit_to_clus]\n",
    "    \n",
    "    #print(cats_per_hit)\n",
    "    \n",
    "    #print(hits_in_clus.shape, hit_to_clus.shape, cats_per_hit.shape)\n",
    "    \n",
    "    hit_truth = np.stack((hits_in_clus, hit_to_clus, cats_per_hit)).T\n",
    "    #hit_truth = hit_truth[np.argsort(hit_truth[:,0])]\n",
    "    \n",
    "    #print('raw hit truth',hit_truth)\n",
    "    \n",
    "    hits_to_clusters = csr_matrix((hit_truth[:,2], (hit_truth[:,0], hit_truth[:,1])),\n",
    "                                  (rechit_z[i].size, np.max(hit_to_clus)+1))    \n",
    "    \n",
    "    #print('sparse hit truth',hits_to_clusters.todense())\n",
    "\n",
    "    pos_mask = (rechit_z[i] > 0)\n",
    "    neg_mask = ~pos_mask\n",
    "    \n",
    "    rechit_indices = np.arange(rechit_z[i].size)\n",
    "    \n",
    "    pos_feats = get_features(i, pos_mask)\n",
    "    neg_feats = get_features(i, neg_mask)\n",
    "    \n",
    "    #print(rechit_indices.shape, pos_mask.shape, neg_mask.shape)\n",
    "    \n",
    "    #print(rechit_indices, rechit_indices.shape)    \n",
    "    \n",
    "    pos_indices = rechit_indices[pos_mask]\n",
    "    neg_indices = rechit_indices[neg_mask]\n",
    "    \n",
    "    #print(pos_indices, pos_indices.shape)\n",
    "    #print(neg_indices, neg_indices.shape)\n",
    "    \n",
    "    pos_coords = pos_feats[:,0:3]\n",
    "    neg_coords = neg_feats[:,0:3]\n",
    "            \n",
    "    # 0 = invalid edge, 1 = hadronic edge, 2 = EM edge, 3 = MIP edge    \n",
    "    pos_Ri, pos_Ro, pos_y = get_neighbours(pos_coords, pos_indices, hits_to_clusters)\n",
    "    neg_Ri, neg_Ro, neg_y = get_neighbours(neg_coords, neg_indices, hits_to_clusters)\n",
    "    \n",
    "    print(pos_y)\n",
    "    \n",
    "    pos_graph = Graph(pos_feats, pos_Ri, pos_Ro, pos_y, simmatched = np.array([]))\n",
    "    #print(np.unique(pos_y,return_counts=True))\n",
    "    neg_graph = Graph(neg_feats, neg_Ri, neg_Ro, neg_y, simmatched = np.array([]))\n",
    "    #print(np.unique(neg_y,return_counts=True))\n",
    "    \n",
    "    outbase = fname.split('/')[-1].replace('.root','')\n",
    "    outdir = \"/\".join(fname.split('/')[:-2]) + \"/npz_hgcal_k8/\" + outbase+\"/raw\"\n",
    "    if not os.path.exists(outdir):\n",
    "        os.makedirs(outdir)\n",
    "\n",
    "    # for UnnormalizedEdgeNet\n",
    "#    save_graph(pos_graph, '%s/%s_hgcal_graph_pos_evt%d.npz'%(outdir,outbase,i))\n",
    "#    save_graph(neg_graph, '%s/%s_hgcal_graph_neg_evt%d.npz'%(outdir,outbase,i))\n",
    "        "
   ]
  },
  {
   "cell_type": "code",
   "execution_count": null,
   "metadata": {},
   "outputs": [],
   "source": [
    "%matplotlib inline\n",
    "\n",
    "import matplotlib.pyplot as plt\n",
    "\n",
    "def draw_sample(X, Ri, Ro, y, out,\n",
    "                cmap='bwr_r', \n",
    "                skip_false_edges=True,\n",
    "                alpha_labels=False, \n",
    "                sim_list=None): \n",
    "    \n",
    "    #let's draw only the non-noise edges\n",
    "    out_mask = out > 0\n",
    "    Ri = Ri[out_mask]\n",
    "    Ro = Ro[out_mask]\n",
    "    good_outs = out[out_mask]\n",
    "    \n",
    "    # Select the i/o node features for each segment    \n",
    "    feats_o = X[Ro]\n",
    "    feats_i = X[Ri]    \n",
    "    # Prepare the figure\n",
    "    fig, (ax0,ax1) = plt.subplots(1, 2, figsize=(20,12))\n",
    "    cmap = plt.get_cmap(cmap)\n",
    "    \n",
    "    \n",
    "    #if sim_list is None:    \n",
    "        # Draw the hits (layer, x, y)\n",
    "    #    ax0.scatter(X[:,0], X[:,2], c='k')\n",
    "    #    ax1.scatter(X[:,1], X[:,2], c='k')\n",
    "    #else:        \n",
    "    ax0.scatter(X[:,0], X[:,2], c='k')\n",
    "    ax1.scatter(X[:,1], X[:,2], c='k')\n",
    "        \n",
    "    # Draw the segments    \n",
    "    if out is not None:\n",
    "        #t = tqdm.tqdm()\n",
    "        color_map = {1: dict(c='blue'),\n",
    "                     2: dict(c='red'),\n",
    "                     3: dict(c='orange')}\n",
    "        for j in range(good_outs.shape[0]):\n",
    "            seg_args = color_map[out[j]]            \n",
    "\n",
    "            ax0.plot([feats_o[j,0], feats_i[j,0]],\n",
    "                     [feats_o[j,2], feats_i[j,2]], '-', **seg_args)\n",
    "            ax1.plot([feats_o[j,1], feats_i[j,1]],\n",
    "                     [feats_o[j,2], feats_i[j,2]], '-', **seg_args)\n",
    "    else:\n",
    "        t = tqdm.tqdm(range(y.shape[0]))\n",
    "        for j in t:\n",
    "            if y[j]:\n",
    "                seg_args = dict(c='b', alpha=0.4)\n",
    "            elif not skip_false_edges:\n",
    "                seg_args = dict(c='black', alpha=0.4)\n",
    "            else: continue\n",
    "                \n",
    "            ax0.plot([feats_o[j,0], feats_i[j,0]],\n",
    "                     [feats_o[j,2], feats_i[j,2]], '-', **seg_args)\n",
    "            ax1.plot([feats_o[j,1], feats_i[j,1]],\n",
    "                     [feats_o[j,2], feats_i[j,2]], '-', **seg_args)\n",
    "        \n",
    "    # Adjust axes\n",
    "    ax0.set_xlabel('$x$ [cm]')\n",
    "    ax1.set_xlabel('$y$ [cm]')\n",
    "    ax0.set_ylabel('$layer$ [arb]')\n",
    "    ax1.set_ylabel('$layer$ [arb]')\n",
    "    plt.tight_layout()\n",
    "    return fig;"
   ]
  },
  {
   "cell_type": "code",
   "execution_count": null,
   "metadata": {
    "scrolled": false
   },
   "outputs": [],
   "source": [
    "X = pos_graph.x.numpy()\n",
    "index = pos_graph.edge_index.numpy().T\n",
    "Ro = index[:,0]\n",
    "Ri = index[:,1]\n",
    "y = data.y.numpy()\n",
    "\n",
    "out = np.argmax(pred_edges_np,axis=-1)\n",
    "\n",
    "draw_sample(X, Ri, Ro, y, y)"
   ]
  },
  {
   "cell_type": "code",
   "execution_count": null,
   "metadata": {},
   "outputs": [],
   "source": []
  },
  {
   "cell_type": "code",
   "execution_count": null,
   "metadata": {},
   "outputs": [],
   "source": []
  }
 ],
 "metadata": {
  "kernelspec": {
   "display_name": "Python 3",
   "language": "python",
   "name": "python3"
  },
  "language_info": {
   "codemirror_mode": {
    "name": "ipython",
    "version": 3
   },
   "file_extension": ".py",
   "mimetype": "text/x-python",
   "name": "python",
   "nbconvert_exporter": "python",
   "pygments_lexer": "ipython3",
   "version": "3.6.10"
  }
 },
 "nbformat": 4,
 "nbformat_minor": 2
}
