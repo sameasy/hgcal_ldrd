{
 "cells": [
  {
   "cell_type": "code",
   "execution_count": 1,
   "metadata": {},
   "outputs": [],
   "source": [
    "import os\n",
    "import os.path as osp\n",
    "import math\n",
    "\n",
    "import numpy as np\n",
    "import torch\n",
    "import torch.nn as nn\n",
    "import torch.nn.functional as F\n",
    "import torch_geometric.transforms as T\n",
    "from torch_geometric.data import DataLoader\n",
    "from torch_geometric.utils import normalized_cut\n",
    "from torch_geometric.nn import (NNConv, graclus, max_pool, max_pool_x,\n",
    "                                global_mean_pool)\n",
    "\n",
    "torch.backends.cudnn.benchmark = True\n",
    "torch.backends.cudnn.enabled = True\n",
    "\n",
    "from datasets.hitgraphs import HitGraphDataset\n",
    "\n",
    "import tqdm\n",
    "import argparse"
   ]
  },
  {
   "cell_type": "code",
   "execution_count": 2,
   "metadata": {},
   "outputs": [],
   "source": [
    "directed = False\n",
    "sig_weight = 1.0\n",
    "bkg_weight = 1.0\n",
    "train_batch_size = 1\n",
    "valid_batch_size = 1\n",
    "n_epochs = 20\n",
    "lr = 0.01\n",
    "hidden_dim = 64\n",
    "n_iters = 6\n"
   ]
  },
  {
   "cell_type": "code",
   "execution_count": 3,
   "metadata": {},
   "outputs": [
    {
     "name": "stdout",
     "output_type": "stream",
     "text": [
      "using device cuda\n"
     ]
    }
   ],
   "source": [
    "from training.gnn import GNNTrainer\n",
    "device = torch.device('cuda' if torch.cuda.is_available() else 'cpu')\n",
    "print('using device %s'%device)\n",
    "import logging"
   ]
  },
  {
   "cell_type": "code",
   "execution_count": 4,
   "metadata": {},
   "outputs": [
    {
     "name": "stdout",
     "output_type": "stream",
     "text": [
      "/home/sameasy2006/npz2/photon_hfntup_0to1000\n",
      "14400 [11520 11520 14400]\n"
     ]
    }
   ],
   "source": [
    "#path = osp.join(os.environ['GNN_TRAINING_DATA_ROOT'], args.dataset)\n",
    "path ='/home/sameasy2006/npz2/photon_hfntup_0to1000'\n",
    "print(path)\n",
    "full_dataset = HitGraphDataset(path, directed=directed, categorical=False)\n",
    "fulllen = len(full_dataset)\n",
    "tv_frac = 0.20\n",
    "tv_num = math.ceil(fulllen*tv_frac)\n",
    "splits = np.cumsum([fulllen-tv_num,0,tv_num])\n",
    "print(fulllen, splits)\n",
    "\n"
   ]
  },
  {
   "cell_type": "code",
   "execution_count": 5,
   "metadata": {},
   "outputs": [
    {
     "name": "stdout",
     "output_type": "stream",
     "text": [
      "num_classes 1\n"
     ]
    },
    {
     "name": "stderr",
     "output_type": "stream",
     "text": [
      "2020-02-03 18:42:15,405 - GNNTrainer - INFO - Model: \n",
      "EdgeNet2(\n",
      "  (inputnet): Sequential(\n",
      "    (0): Linear(in_features=5, out_features=64, bias=True)\n",
      "    (1): BatchNorm1d(64, eps=1e-05, momentum=0.1, affine=True, track_running_stats=True)\n",
      "    (2): Tanh()\n",
      "  )\n",
      "  (edgenetwork): Sequential(\n",
      "    (0): Linear(in_features=778, out_features=1, bias=True)\n",
      "    (1): Sigmoid()\n",
      "  )\n",
      "  (nodenetwork): EdgeConv(nn=Sequential(\n",
      "    (0): Linear(in_features=138, out_features=101, bias=True)\n",
      "    (1): ReLU()\n",
      "    (2): Dropout(p=0.5, inplace=False)\n",
      "    (3): Linear(in_features=101, out_features=64, bias=True)\n",
      "    (4): ReLU()\n",
      "  ))\n",
      ")\n",
      "Parameters: 21858\n",
      "2020-02-03 18:42:15,406 - GNNTrainer - INFO - Epoch 0\n",
      "loss = 0.01512: 100%|██████████| 11520/11520 [10:56<00:00, 17.55it/s]\n",
      "2020-02-03 18:53:11,824 - GNNTrainer - DEBUG -  Processed 11520 batches\n",
      "2020-02-03 18:53:11,827 - GNNTrainer - INFO -   Training loss: 0.05280\n",
      "2020-02-03 18:53:11,830 - GNNTrainer - INFO -   Learning rate: 0.00100\n",
      "100%|██████████| 2880/2880 [01:36<00:00, 29.83it/s]\n",
      "2020-02-03 18:54:48,443 - GNNTrainer - DEBUG -  Processed 2880 samples in 2880 batches\n",
      "2020-02-03 18:54:48,444 - GNNTrainer - INFO -   Validation loss: 0.023 acc: 0.991\n",
      "2020-02-03 18:54:48,446 - GNNTrainer - INFO -   signal_efficiency: 0.978928 background_efficiency: 0.991754\n",
      "2020-02-03 18:54:48,447 - GNNTrainer - INFO -   signal_purity: 0.790000 background_purity: 0.999327\n",
      "2020-02-03 18:54:48,448 - GNNTrainer - DEBUG - Checkpointing new best model with loss: 0.02302\n",
      "2020-02-03 18:54:48,504 - GNNTrainer - INFO - Epoch 1\n",
      "loss = 0.01320: 100%|██████████| 11520/11520 [10:38<00:00, 18.04it/s]\n",
      "2020-02-03 19:05:26,957 - GNNTrainer - DEBUG -  Processed 11520 batches\n",
      "2020-02-03 19:05:26,958 - GNNTrainer - INFO -   Training loss: 0.01565\n",
      "2020-02-03 19:05:26,958 - GNNTrainer - INFO -   Learning rate: 0.00100\n",
      "100%|██████████| 2880/2880 [01:33<00:00, 30.84it/s]\n",
      "2020-02-03 19:07:00,366 - GNNTrainer - DEBUG -  Processed 2880 samples in 2880 batches\n",
      "2020-02-03 19:07:00,367 - GNNTrainer - INFO -   Validation loss: 0.017 acc: 0.993\n",
      "2020-02-03 19:07:00,368 - GNNTrainer - INFO -   signal_efficiency: 0.974122 background_efficiency: 0.993663\n",
      "2020-02-03 19:07:00,368 - GNNTrainer - INFO -   signal_purity: 0.829671 background_purity: 0.999175\n",
      "2020-02-03 19:07:00,369 - GNNTrainer - DEBUG - Checkpointing new best model with loss: 0.01734\n",
      "2020-02-03 19:07:00,373 - GNNTrainer - INFO - Epoch 2\n",
      "loss = 0.01071: 100%|██████████| 11520/11520 [10:48<00:00, 17.77it/s]\n",
      "2020-02-03 19:17:48,718 - GNNTrainer - DEBUG -  Processed 11520 batches\n",
      "2020-02-03 19:17:48,720 - GNNTrainer - INFO -   Training loss: 0.01393\n",
      "2020-02-03 19:17:48,721 - GNNTrainer - INFO -   Learning rate: 0.00100\n",
      "100%|██████████| 2880/2880 [01:33<00:00, 30.88it/s]\n",
      "2020-02-03 19:19:22,016 - GNNTrainer - DEBUG -  Processed 2880 samples in 2880 batches\n",
      "2020-02-03 19:19:22,018 - GNNTrainer - INFO -   Validation loss: 0.013 acc: 0.995\n",
      "2020-02-03 19:19:22,021 - GNNTrainer - INFO -   signal_efficiency: 0.971004 background_efficiency: 0.995505\n",
      "2020-02-03 19:19:22,023 - GNNTrainer - INFO -   signal_purity: 0.872527 background_purity: 0.999078\n",
      "2020-02-03 19:19:22,025 - GNNTrainer - DEBUG - Checkpointing new best model with loss: 0.01309\n",
      "2020-02-03 19:19:22,030 - GNNTrainer - INFO - Epoch 3\n",
      "loss = 0.00825: 100%|██████████| 11520/11520 [10:47<00:00, 17.79it/s]\n",
      "2020-02-03 19:30:09,442 - GNNTrainer - DEBUG -  Processed 11520 batches\n",
      "2020-02-03 19:30:09,443 - GNNTrainer - INFO -   Training loss: 0.01033\n",
      "2020-02-03 19:30:09,443 - GNNTrainer - INFO -   Learning rate: 0.00100\n",
      "100%|██████████| 2880/2880 [01:28<00:00, 32.72it/s]\n",
      "2020-02-03 19:31:37,476 - GNNTrainer - DEBUG -  Processed 2880 samples in 2880 batches\n",
      "2020-02-03 19:31:37,477 - GNNTrainer - INFO -   Validation loss: 0.010 acc: 0.996\n",
      "2020-02-03 19:31:37,477 - GNNTrainer - INFO -   signal_efficiency: 0.982468 background_efficiency: 0.996528\n",
      "2020-02-03 19:31:37,478 - GNNTrainer - INFO -   signal_purity: 0.899658 background_purity: 0.999443\n",
      "2020-02-03 19:31:37,478 - GNNTrainer - DEBUG - Checkpointing new best model with loss: 0.01016\n",
      "2020-02-03 19:31:37,483 - GNNTrainer - INFO - Epoch 4\n",
      "loss = 0.00669: 100%|██████████| 11520/11520 [10:48<00:00, 17.77it/s]\n",
      "2020-02-03 19:42:25,853 - GNNTrainer - DEBUG -  Processed 11520 batches\n",
      "2020-02-03 19:42:25,856 - GNNTrainer - INFO -   Training loss: 0.00786\n",
      "2020-02-03 19:42:25,858 - GNNTrainer - INFO -   Learning rate: 0.00100\n",
      "100%|██████████| 2880/2880 [01:33<00:00, 30.72it/s]\n",
      "2020-02-03 19:43:59,622 - GNNTrainer - DEBUG -  Processed 2880 samples in 2880 batches\n",
      "2020-02-03 19:43:59,623 - GNNTrainer - INFO -   Validation loss: 0.009 acc: 0.997\n",
      "2020-02-03 19:43:59,624 - GNNTrainer - INFO -   signal_efficiency: 0.985309 background_efficiency: 0.997313\n",
      "2020-02-03 19:43:59,625 - GNNTrainer - INFO -   signal_purity: 0.920754 background_purity: 0.999533\n",
      "2020-02-03 19:43:59,626 - GNNTrainer - DEBUG - Checkpointing new best model with loss: 0.00871\n",
      "2020-02-03 19:43:59,630 - GNNTrainer - INFO - Epoch 5\n",
      "loss = 0.00594: 100%|██████████| 11520/11520 [10:42<00:00, 17.94it/s]\n",
      "2020-02-03 19:54:41,713 - GNNTrainer - DEBUG -  Processed 11520 batches\n",
      "2020-02-03 19:54:41,716 - GNNTrainer - INFO -   Training loss: 0.00715\n",
      "2020-02-03 19:54:41,721 - GNNTrainer - INFO -   Learning rate: 0.00100\n",
      "100%|██████████| 2880/2880 [01:32<00:00, 31.03it/s]\n",
      "2020-02-03 19:56:14,558 - GNNTrainer - DEBUG -  Processed 2880 samples in 2880 batches\n",
      "2020-02-03 19:56:14,561 - GNNTrainer - INFO -   Validation loss: 0.008 acc: 0.997\n",
      "2020-02-03 19:56:14,563 - GNNTrainer - INFO -   signal_efficiency: 0.986573 background_efficiency: 0.997735\n",
      "2020-02-03 19:56:14,565 - GNNTrainer - INFO -   signal_purity: 0.932452 background_purity: 0.999574\n",
      "2020-02-03 19:56:14,570 - GNNTrainer - DEBUG - Checkpointing new best model with loss: 0.00777\n",
      "2020-02-03 19:56:14,574 - GNNTrainer - INFO - Epoch 6\n",
      "loss = 0.00507: 100%|██████████| 11520/11520 [10:41<00:00, 17.96it/s]\n",
      "2020-02-03 20:06:56,110 - GNNTrainer - DEBUG -  Processed 11520 batches\n",
      "2020-02-03 20:06:56,113 - GNNTrainer - INFO -   Training loss: 0.00678\n",
      "2020-02-03 20:06:56,115 - GNNTrainer - INFO -   Learning rate: 0.00100\n",
      "100%|██████████| 2880/2880 [01:35<00:00, 30.08it/s]\n",
      "2020-02-03 20:08:31,885 - GNNTrainer - DEBUG -  Processed 2880 samples in 2880 batches\n",
      "2020-02-03 20:08:31,885 - GNNTrainer - INFO -   Validation loss: 0.006 acc: 0.998\n",
      "2020-02-03 20:08:31,890 - GNNTrainer - INFO -   signal_efficiency: 0.979304 background_efficiency: 0.998641\n",
      "2020-02-03 20:08:31,890 - GNNTrainer - INFO -   signal_purity: 0.958036 background_purity: 0.999344\n",
      "2020-02-03 20:08:31,891 - GNNTrainer - DEBUG - Checkpointing new best model with loss: 0.00643\n",
      "2020-02-03 20:08:31,895 - GNNTrainer - INFO - Epoch 7\n",
      "loss = 0.00507: 100%|██████████| 11520/11520 [10:50<00:00, 17.72it/s]\n",
      "2020-02-03 20:19:22,090 - GNNTrainer - DEBUG -  Processed 11520 batches\n",
      "2020-02-03 20:19:22,092 - GNNTrainer - INFO -   Training loss: 0.00657\n",
      "2020-02-03 20:19:22,094 - GNNTrainer - INFO -   Learning rate: 0.00100\n",
      "100%|██████████| 2880/2880 [01:33<00:00, 30.78it/s]\n",
      "2020-02-03 20:20:55,701 - GNNTrainer - DEBUG -  Processed 2880 samples in 2880 batches\n",
      "2020-02-03 20:20:55,703 - GNNTrainer - INFO -   Validation loss: 0.006 acc: 0.998\n",
      "2020-02-03 20:20:55,706 - GNNTrainer - INFO -   signal_efficiency: 0.972782 background_efficiency: 0.998879\n",
      "2020-02-03 20:20:55,711 - GNNTrainer - INFO -   signal_purity: 0.964903 background_purity: 0.999137\n",
      "2020-02-03 20:20:55,713 - GNNTrainer - DEBUG - Checkpointing new best model with loss: 0.00636\n",
      "2020-02-03 20:20:55,718 - GNNTrainer - INFO - Epoch 8\n",
      "loss = 0.00503: 100%|██████████| 11520/11520 [10:42<00:00, 17.94it/s]\n",
      "2020-02-03 20:31:37,863 - GNNTrainer - DEBUG -  Processed 11520 batches\n",
      "2020-02-03 20:31:37,864 - GNNTrainer - INFO -   Training loss: 0.00644\n",
      "2020-02-03 20:31:37,865 - GNNTrainer - INFO -   Learning rate: 0.00100\n",
      "100%|██████████| 2880/2880 [01:33<00:00, 30.67it/s]\n",
      "2020-02-03 20:33:11,782 - GNNTrainer - DEBUG -  Processed 2880 samples in 2880 batches\n",
      "2020-02-03 20:33:11,784 - GNNTrainer - INFO -   Validation loss: 0.006 acc: 0.998\n",
      "2020-02-03 20:33:11,784 - GNNTrainer - INFO -   signal_efficiency: 0.976252 background_efficiency: 0.998821\n"
     ]
    },
    {
     "name": "stderr",
     "output_type": "stream",
     "text": [
      "2020-02-03 20:33:11,786 - GNNTrainer - INFO -   signal_purity: 0.963298 background_purity: 0.999247\n",
      "2020-02-03 20:33:11,788 - GNNTrainer - DEBUG - Checkpointing new best model with loss: 0.00618\n",
      "2020-02-03 20:33:11,792 - GNNTrainer - INFO - Epoch 9\n",
      "loss = 0.00482: 100%|██████████| 11520/11520 [10:42<00:00, 17.94it/s]\n",
      "2020-02-03 20:43:53,934 - GNNTrainer - DEBUG -  Processed 11520 batches\n",
      "2020-02-03 20:43:53,935 - GNNTrainer - INFO -   Training loss: 0.00629\n",
      "2020-02-03 20:43:53,936 - GNNTrainer - INFO -   Learning rate: 0.00100\n",
      "100%|██████████| 2880/2880 [01:33<00:00, 30.80it/s]\n",
      "2020-02-03 20:45:27,476 - GNNTrainer - DEBUG -  Processed 2880 samples in 2880 batches\n",
      "2020-02-03 20:45:27,477 - GNNTrainer - INFO -   Validation loss: 0.006 acc: 0.998\n",
      "2020-02-03 20:45:27,478 - GNNTrainer - INFO -   signal_efficiency: 0.972307 background_efficiency: 0.998918\n",
      "2020-02-03 20:45:27,478 - GNNTrainer - INFO -   signal_purity: 0.966081 background_purity: 0.999122\n",
      "2020-02-03 20:45:27,481 - GNNTrainer - INFO - Epoch 10\n",
      "loss = 0.00471: 100%|██████████| 11520/11520 [10:52<00:00, 17.66it/s]\n",
      "2020-02-03 20:56:19,700 - GNNTrainer - DEBUG -  Processed 11520 batches\n",
      "2020-02-03 20:56:19,702 - GNNTrainer - INFO -   Training loss: 0.00625\n",
      "2020-02-03 20:56:19,704 - GNNTrainer - INFO -   Learning rate: 0.00100\n",
      "100%|██████████| 2880/2880 [01:28<00:00, 32.55it/s]\n",
      "2020-02-03 20:57:48,199 - GNNTrainer - DEBUG -  Processed 2880 samples in 2880 batches\n",
      "2020-02-03 20:57:48,203 - GNNTrainer - INFO -   Validation loss: 0.006 acc: 0.998\n",
      "2020-02-03 20:57:48,204 - GNNTrainer - INFO -   signal_efficiency: 0.971684 background_efficiency: 0.998997\n",
      "2020-02-03 20:57:48,205 - GNNTrainer - INFO -   signal_purity: 0.968448 background_purity: 0.999103\n",
      "2020-02-03 20:57:48,209 - GNNTrainer - INFO - Epoch 11\n",
      "loss = 0.00451: 100%|██████████| 11520/11520 [10:49<00:00, 17.75it/s]\n",
      "2020-02-03 21:08:37,308 - GNNTrainer - DEBUG -  Processed 11520 batches\n",
      "2020-02-03 21:08:37,310 - GNNTrainer - INFO -   Training loss: 0.00617\n",
      "2020-02-03 21:08:37,312 - GNNTrainer - INFO -   Learning rate: 0.00100\n",
      "100%|██████████| 2880/2880 [01:35<00:00, 30.31it/s]\n",
      "2020-02-03 21:10:12,373 - GNNTrainer - DEBUG -  Processed 2880 samples in 2880 batches\n",
      "2020-02-03 21:10:12,376 - GNNTrainer - INFO -   Validation loss: 0.006 acc: 0.998\n",
      "2020-02-03 21:10:12,377 - GNNTrainer - INFO -   signal_efficiency: 0.971356 background_efficiency: 0.999018\n",
      "2020-02-03 21:10:12,378 - GNNTrainer - INFO -   signal_purity: 0.969070 background_purity: 0.999092\n",
      "2020-02-03 21:10:12,380 - GNNTrainer - DEBUG - Checkpointing new best model with loss: 0.00612\n",
      "2020-02-03 21:10:12,386 - GNNTrainer - INFO - Epoch 12\n",
      "loss = 0.00476: 100%|██████████| 11520/11520 [10:44<00:00, 17.87it/s]\n",
      "2020-02-03 21:20:56,881 - GNNTrainer - DEBUG -  Processed 11520 batches\n",
      "2020-02-03 21:20:56,882 - GNNTrainer - INFO -   Training loss: 0.00606\n",
      "2020-02-03 21:20:56,883 - GNNTrainer - INFO -   Learning rate: 0.00100\n",
      "100%|██████████| 2880/2880 [01:35<00:00, 30.11it/s]\n",
      "2020-02-03 21:22:32,562 - GNNTrainer - DEBUG -  Processed 2880 samples in 2880 batches\n",
      "2020-02-03 21:22:32,563 - GNNTrainer - INFO -   Validation loss: 0.006 acc: 0.998\n",
      "2020-02-03 21:22:32,564 - GNNTrainer - INFO -   signal_efficiency: 0.971929 background_efficiency: 0.998930\n",
      "2020-02-03 21:22:32,565 - GNNTrainer - INFO -   signal_purity: 0.966421 background_purity: 0.999110\n",
      "2020-02-03 21:22:32,567 - GNNTrainer - INFO - Epoch 13\n",
      "loss = 0.00470: 100%|██████████| 11520/11520 [10:42<00:00, 17.92it/s]\n",
      "2020-02-03 21:33:15,448 - GNNTrainer - DEBUG -  Processed 11520 batches\n",
      "2020-02-03 21:33:15,450 - GNNTrainer - INFO -   Training loss: 0.00603\n",
      "2020-02-03 21:33:15,452 - GNNTrainer - INFO -   Learning rate: 0.00100\n",
      "100%|██████████| 2880/2880 [01:33<00:00, 30.79it/s]\n",
      "2020-02-03 21:34:49,005 - GNNTrainer - DEBUG -  Processed 2880 samples in 2880 batches\n",
      "2020-02-03 21:34:49,006 - GNNTrainer - INFO -   Validation loss: 0.006 acc: 0.998\n",
      "2020-02-03 21:34:49,008 - GNNTrainer - INFO -   signal_efficiency: 0.970891 background_efficiency: 0.999005\n",
      "2020-02-03 21:34:49,009 - GNNTrainer - INFO -   signal_purity: 0.968674 background_purity: 0.999078\n",
      "2020-02-03 21:34:49,011 - GNNTrainer - INFO - Epoch 14\n",
      "loss = 0.00470: 100%|██████████| 11520/11520 [10:46<00:00, 17.81it/s]\n",
      "2020-02-03 21:45:35,984 - GNNTrainer - DEBUG -  Processed 11520 batches\n",
      "2020-02-03 21:45:35,986 - GNNTrainer - INFO -   Training loss: 0.00602\n",
      "2020-02-03 21:45:35,988 - GNNTrainer - INFO -   Learning rate: 0.00100\n",
      "100%|██████████| 2880/2880 [01:34<00:00, 30.36it/s]\n",
      "2020-02-03 21:47:10,868 - GNNTrainer - DEBUG -  Processed 2880 samples in 2880 batches\n",
      "2020-02-03 21:47:10,872 - GNNTrainer - INFO -   Validation loss: 0.006 acc: 0.998\n",
      "2020-02-03 21:47:10,875 - GNNTrainer - INFO -   signal_efficiency: 0.969403 background_efficiency: 0.999014\n",
      "2020-02-03 21:47:10,877 - GNNTrainer - INFO -   signal_purity: 0.968901 background_purity: 0.999030\n",
      "2020-02-03 21:47:10,882 - GNNTrainer - INFO - Epoch 15\n",
      "loss = 0.00465: 100%|██████████| 11520/11520 [10:41<00:00, 17.96it/s]\n",
      "2020-02-03 21:57:52,396 - GNNTrainer - DEBUG -  Processed 11520 batches\n",
      "2020-02-03 21:57:52,396 - GNNTrainer - INFO -   Training loss: 0.00597\n",
      "2020-02-03 21:57:52,397 - GNNTrainer - INFO -   Learning rate: 0.00100\n",
      "100%|██████████| 2880/2880 [01:36<00:00, 29.94it/s]\n",
      "2020-02-03 21:59:28,631 - GNNTrainer - DEBUG -  Processed 2880 samples in 2880 batches\n",
      "2020-02-03 21:59:28,631 - GNNTrainer - INFO -   Validation loss: 0.006 acc: 0.998\n",
      "2020-02-03 21:59:28,635 - GNNTrainer - INFO -   signal_efficiency: 0.965939 background_efficiency: 0.999121\n",
      "2020-02-03 21:59:28,636 - GNNTrainer - INFO -   signal_purity: 0.972097 background_purity: 0.998921\n",
      "2020-02-03 21:59:28,640 - GNNTrainer - INFO - Epoch 16\n",
      "loss = 0.00457: 100%|██████████| 11520/11520 [10:44<00:00, 17.87it/s]\n",
      "2020-02-03 22:10:13,368 - GNNTrainer - DEBUG -  Processed 11520 batches\n",
      "2020-02-03 22:10:13,368 - GNNTrainer - INFO -   Training loss: 0.00594\n",
      "2020-02-03 22:10:13,369 - GNNTrainer - INFO -   Learning rate: 0.00100\n",
      "100%|██████████| 2880/2880 [01:35<00:00, 30.23it/s]\n",
      "2020-02-03 22:11:48,647 - GNNTrainer - DEBUG -  Processed 2880 samples in 2880 batches\n",
      "2020-02-03 22:11:48,648 - GNNTrainer - INFO -   Validation loss: 0.006 acc: 0.998\n",
      "2020-02-03 22:11:48,650 - GNNTrainer - INFO -   signal_efficiency: 0.967779 background_efficiency: 0.999119\n",
      "2020-02-03 22:11:48,653 - GNNTrainer - INFO -   signal_purity: 0.972086 background_purity: 0.998979\n",
      "2020-02-03 22:11:48,657 - GNNTrainer - INFO - Epoch 17\n",
      "loss = 0.00462: 100%|██████████| 11520/11520 [10:48<00:00, 17.76it/s]\n",
      "2020-02-03 22:22:37,389 - GNNTrainer - DEBUG -  Processed 11520 batches\n",
      "2020-02-03 22:22:37,390 - GNNTrainer - INFO -   Training loss: 0.00593\n",
      "2020-02-03 22:22:37,393 - GNNTrainer - INFO -   Learning rate: 0.00100\n",
      "100%|██████████| 2880/2880 [01:29<00:00, 32.27it/s]\n",
      "2020-02-03 22:24:06,670 - GNNTrainer - DEBUG -  Processed 2880 samples in 2880 batches\n",
      "2020-02-03 22:24:06,670 - GNNTrainer - INFO -   Validation loss: 0.006 acc: 0.998\n",
      "2020-02-03 22:24:06,673 - GNNTrainer - INFO -   signal_efficiency: 0.965820 background_efficiency: 0.999144\n",
      "2020-02-03 22:24:06,676 - GNNTrainer - INFO -   signal_purity: 0.972800 background_purity: 0.998917\n",
      "2020-02-03 22:24:06,681 - GNNTrainer - INFO - Epoch 18\n",
      "loss = 0.00464: 100%|██████████| 11520/11520 [10:47<00:00, 17.79it/s]\n",
      "2020-02-03 22:34:54,427 - GNNTrainer - DEBUG -  Processed 11520 batches\n",
      "2020-02-03 22:34:54,429 - GNNTrainer - INFO -   Training loss: 0.00595\n",
      "2020-02-03 22:34:54,431 - GNNTrainer - INFO -   Learning rate: 0.00100\n",
      "100%|██████████| 2880/2880 [01:34<00:00, 30.46it/s]\n",
      "2020-02-03 22:36:29,021 - GNNTrainer - DEBUG -  Processed 2880 samples in 2880 batches\n",
      "2020-02-03 22:36:29,021 - GNNTrainer - INFO -   Validation loss: 0.006 acc: 0.998\n",
      "2020-02-03 22:36:29,022 - GNNTrainer - INFO -   signal_efficiency: 0.968972 background_efficiency: 0.999087\n",
      "2020-02-03 22:36:29,023 - GNNTrainer - INFO -   signal_purity: 0.971132 background_purity: 0.999017\n",
      "2020-02-03 22:36:29,026 - GNNTrainer - INFO - Epoch 19\n",
      "loss = 0.00455: 100%|██████████| 11520/11520 [10:43<00:00, 17.89it/s]\n",
      "2020-02-03 22:47:12,922 - GNNTrainer - DEBUG -  Processed 11520 batches\n",
      "2020-02-03 22:47:12,924 - GNNTrainer - INFO -   Training loss: 0.00590\n"
     ]
    },
    {
     "name": "stderr",
     "output_type": "stream",
     "text": [
      "2020-02-03 22:47:12,926 - GNNTrainer - INFO -   Learning rate: 0.00100\n",
      "100%|██████████| 2880/2880 [01:33<00:00, 30.64it/s]\n",
      "2020-02-03 22:48:46,952 - GNNTrainer - DEBUG -  Processed 2880 samples in 2880 batches\n",
      "2020-02-03 22:48:46,953 - GNNTrainer - INFO -   Validation loss: 0.006 acc: 0.998\n",
      "2020-02-03 22:48:46,955 - GNNTrainer - INFO -   signal_efficiency: 0.965943 background_efficiency: 0.999164\n",
      "2020-02-03 22:48:46,958 - GNNTrainer - INFO -   signal_purity: 0.973415 background_purity: 0.998921\n"
     ]
    },
    {
     "name": "stdout",
     "output_type": "stream",
     "text": [
      "{'epoch': [0, 1, 2, 3, 4, 5, 6, 7, 8, 9, 10, 11, 12, 13, 14, 15, 16, 17, 18, 19], 'lr': [0.001, 0.001, 0.001, 0.001, 0.001, 0.001, 0.001, 0.001, 0.001, 0.001, 0.001, 0.001, 0.001, 0.001, 0.001, 0.001, 0.001, 0.001, 0.001, 0.001], 'train_time': [656.4163613319397, 638.4518940448761, 648.3440926074982, 647.409021615982, 648.3695600032806, 642.0824749469757, 641.5350732803345, 650.1936044692993, 642.1418087482452, 642.1410131454468, 652.2175648212433, 649.098061800003, 644.4949781894684, 642.879935503006, 646.9717597961426, 641.512745141983, 644.7244236469269, 648.7313067913055, 647.7391362190247, 643.8951756954193], 'train_loss': [0.05279918724444283, 0.015647417284925937, 0.013933704717463198, 0.010328799674311995, 0.007855361856815297, 0.007154175078489071, 0.006781430275192081, 0.0065711258499996554, 0.006444021804014217, 0.006291543354794353, 0.006246584341704726, 0.006167439580197658, 0.006064228530709271, 0.0060298889749692925, 0.00601950895395066, 0.0059741525559709775, 0.005943333659912219, 0.005929176995879754, 0.005945929298103065, 0.0059031090414853144], 'valid_time': [96.558438539505, 93.38489174842834, 93.2729389667511, 88.00996923446655, 93.73912620544434, 92.81178593635559, 95.74519419670105, 93.58283758163452, 93.89365983009338, 93.51701879501343, 88.46982526779175, 95.03464961051941, 95.65253639221191, 93.52861309051514, 94.854984998703, 96.20874834060669, 95.25619697570801, 89.25434017181396, 94.56414222717285, 94.00062084197998], 'valid_loss': [0.023021713347124103, 0.01733524092468441, 0.013086854975852526, 0.010156309775804099, 0.008707079015857743, 0.007771546069463713, 0.00642862774465761, 0.006358713821517388, 0.006180285711918208, 0.006381937434273116, 0.006182238665902181, 0.00612495490503938, 0.006259189606892809, 0.006187791069578452, 0.006273951880162562, 0.00634930307767642, 0.006158983244870342, 0.006249851322667155, 0.006140232582441898, 0.006209506772540942], 'valid_acc': [0.9913600158052307, 0.9930626258922781, 0.9947521438416043, 0.9960957872883264, 0.9969440421825544, 0.9973923952175647, 0.9980467697627575, 0.9980771848032992, 0.998128116082771, 0.9981008565554068, 0.9981579043432981, 0.9981679598399135, 0.9981005323588474, 0.9981415378203276, 0.9981045037666993, 0.998102196567852, 0.9981567426389604, 0.9981207189979422, 0.9981622539804691, 0.9981436450979633], 'signal_efficiency': [0.9789275899448012, 0.9741221016574423, 0.9710039964521329, 0.9824677168362904, 0.9853085789497201, 0.9865727089359178, 0.9793035217261127, 0.9727823279342469, 0.9762520885587617, 0.9723066519694991, 0.9716839105067744, 0.9713563555340078, 0.9719286092001783, 0.9708910585936387, 0.9694031638784619, 0.9659385048083029, 0.9677791104366895, 0.9658202894797857, 0.9689723464089104, 0.9659429026999888], 'background_efficiency': [0.9917539747254289, 0.9936628220360734, 0.9955046861846102, 0.9965276399250997, 0.99731275215473, 0.9977352544701812, 0.9986407145266043, 0.9988787399958814, 0.9988213338204999, 0.9989182353107559, 0.998996824576684, 0.9990175784309223, 0.998929880436059, 0.9990050636840072, 0.999014005178017, 0.9991214145960837, 0.9991193631809991, 0.999144270035884, 0.9990872373518358, 0.9991640372040627], 'signal_purity': [0.7899998509368619, 0.829671450921706, 0.8725273943586274, 0.899658009787718, 0.9207539130201777, 0.9324515506985388, 0.9580362680639892, 0.9649027571805995, 0.9632981165547211, 0.9660810875530093, 0.9684479943670032, 0.9690704605918865, 0.9664213487784366, 0.9686742602216285, 0.9689008629291415, 0.9720974994184324, 0.9720858747734062, 0.9728003736520053, 0.971131558491039, 0.9734152587217831], 'background_purity': [0.9993271486150519, 0.9991754197876404, 0.9990778631501899, 0.9994428036302303, 0.9995334148027716, 0.9995737257266727, 0.9993436986952563, 0.9991372904983271, 0.9992471443184512, 0.9991222610649529, 0.999102611565145, 0.9990922590158446, 0.999110300046212, 0.9990775154248195, 0.9990304172938381, 0.9989208601537778, 0.9989791127873056, 0.9989171436432231, 0.9990168505466288, 0.998921045316537]}\n"
     ]
    },
    {
     "data": {
      "text/plain": [
       "'\\nif __name__ == \"__main__\":\\n\\n    parser = argparse.ArgumentParser()\\n    parser.add_argument(\\'--categorized\\', \\'-c\\', action=\\'store_true\\', default=False, help=\\'Does the model you want to train have explicit categories?\\')\\n    parser.add_argument(\\'--forcecats\\', action=\\'store_true\\', default=False, help=\\'Do we want to force the number of categories?\\')\\n    parser.add_argument(\\'--cats\\', default=1, type=int, help=\\'Number of categories to force\\')\\n    parser.add_argument(\\'--optimizer\\', \\'-o\\', default=\\'Adam\\', help=\\'Optimizer to use for training.\\')\\n    parser.add_argument(\\'--model\\', \\'-m\\', default=\\'EdgeNet2\\', help=\\'The model to train.\\')\\n    parser.add_argument(\\'--loss\\', \\'-l\\', default=\\'binary_cross_entropy\\', help=\\'Loss function to use in training.\\')\\n    parser.add_argument(\\'--lr\\', default=0.001, type=float, help=\\'The starting learning rate.\\')\\n    parser.add_argument(\\'--hidden_dim\\', default=64, type=int, help=\\'Latent space size.\\')\\n    parser.add_argument(\\'--n_iters\\', default=6, type=int, help=\\'Number of times to iterate the graph.\\')\\n    parser.add_argument(\\'--dataset\\', \\'-d\\', default=\\'single_photon\\')\\n    \\n    args = parser.parse_args()\\n    main(args)\\n'"
      ]
     },
     "execution_count": 5,
     "metadata": {},
     "output_type": "execute_result"
    }
   ],
   "source": [
    "train_dataset = torch.utils.data.Subset(full_dataset,np.arange(start=0,stop=splits[0]))\n",
    "#train_dataset = torch.utils.data.Subset(full_dataset,np.arange(start=0,stop=5))\n",
    "valid_dataset = torch.utils.data.Subset(full_dataset,np.arange(start=splits[1],stop=splits[2]))\n",
    "train_loader = DataLoader(train_dataset, batch_size=train_batch_size, pin_memory=True)\n",
    "valid_loader = DataLoader(valid_dataset, batch_size=valid_batch_size, shuffle=False)\n",
    "\n",
    "train_samples = len(train_dataset)\n",
    "valid_samples = len(valid_dataset)\n",
    "\n",
    "d = full_dataset\n",
    "num_features = d.num_features\n",
    "num_classes = d[0].y.dim() if d[0].y.dim() == 1 else d[0].y.size(1)\n",
    "\n",
    "#if args.categorized:\n",
    "#    if not args.forcecats:\n",
    "#       num_classes = int(d[0].y.max().item()) + 1 if d[0].y.dim() == 1 else d[0].y.size(1)\n",
    "#    else:\n",
    "#        num_classes = args.cats\n",
    "\n",
    "print ('num_classes',num_classes)\n",
    "#the_weights = np.array([1., 1., 1., 1.]) #[0.017, 1., 1., 10.]\n",
    "the_weights = np.array([1,1]) #[0.017, 1., 1., 10.]\n",
    "trainer = GNNTrainer(category_weights = the_weights, \n",
    "                     output_dir='/home/sameasy2006/hgcal_ldrd-gravnet2_wip_trainer_args/output_photon6nn', device=device)\n",
    "\n",
    "trainer.logger.setLevel(logging.DEBUG)\n",
    "strmH = logging.StreamHandler()\n",
    "formatter = logging.Formatter('%(asctime)s - %(name)s - %(levelname)s - %(message)s')\n",
    "strmH.setFormatter(formatter)\n",
    "trainer.logger.addHandler(strmH)\n",
    "\n",
    "#example lr scheduling definition\n",
    "def lr_scaling(optimizer):\n",
    "    from torch.optim.lr_scheduler import ReduceLROnPlateau        \n",
    "    return ReduceLROnPlateau(optimizer, mode='min', verbose=True,\n",
    "                             min_lr=5e-7, factor=0.2, \n",
    "                             threshold=0.01, patience=5)\n",
    "\n",
    "\n",
    "trainer.build_model(name='EdgeNet2', loss_func='binary_cross_entropy',\n",
    "                    optimizer='Adam', learning_rate=0.001, lr_scaling=lr_scaling,\n",
    "                    input_dim=num_features, hidden_dim=64, n_iters=6,\n",
    "                    output_dim=num_classes)\n",
    "\n",
    "trainer.print_model_summary()\n",
    "\n",
    "train_summary = trainer.train(train_loader, n_epochs, valid_data_loader=valid_loader)\n",
    "\n",
    "print(train_summary)\n",
    "    \n",
    "'''\n",
    "if __name__ == \"__main__\":\n",
    "\n",
    "    parser = argparse.ArgumentParser()\n",
    "    parser.add_argument('--categorized', '-c', action='store_true', default=False, help='Does the model you want to train have explicit categories?')\n",
    "    parser.add_argument('--forcecats', action='store_true', default=False, help='Do we want to force the number of categories?')\n",
    "    parser.add_argument('--cats', default=1, type=int, help='Number of categories to force')\n",
    "    parser.add_argument('--optimizer', '-o', default='Adam', help='Optimizer to use for training.')\n",
    "    parser.add_argument('--model', '-m', default='EdgeNet2', help='The model to train.')\n",
    "    parser.add_argument('--loss', '-l', default='binary_cross_entropy', help='Loss function to use in training.')\n",
    "    parser.add_argument('--lr', default=0.001, type=float, help='The starting learning rate.')\n",
    "    parser.add_argument('--hidden_dim', default=64, type=int, help='Latent space size.')\n",
    "    parser.add_argument('--n_iters', default=6, type=int, help='Number of times to iterate the graph.')\n",
    "    parser.add_argument('--dataset', '-d', default='single_photon')\n",
    "    \n",
    "    args = parser.parse_args()\n",
    "    main(args)\n",
    "'''                                                \n"
   ]
  },
  {
   "cell_type": "code",
   "execution_count": 6,
   "metadata": {},
   "outputs": [
    {
     "name": "stdout",
     "output_type": "stream",
     "text": [
      "/home/sameasy2006/training_data/photon_hfntup_0to1000\n"
     ]
    }
   ],
   "source": [
    "path = osp.join(os.environ['GNN_TRAINING_DATA_ROOT'], 'photon_hfntup_0to1000')\n",
    "print(path)"
   ]
  },
  {
   "cell_type": "code",
   "execution_count": 7,
   "metadata": {},
   "outputs": [],
   "source": [
    "epochs= [0, 1, 2, 3, 4, 5, 6]\n",
    "lrs= [0.001, 0.001, 0.001, 0.001, 0.001, 0.001, 0.001] \n",
    "train_times= [225.54388546943665, 225.22212648391724, 225.3216323852539, 225.35716199874878, 225.40882205963135, 225.19546961784363, 225.20603489875793] \n",
    "train_losss= [0.04032796977131486, 0.015438518584319796, 0.012363892024644151, 0.008919628991402343, 0.0075437994571782635, 0.00695315887611514, 0.0066568848183646955] \n",
    "valid_times= [19.107330799102783, 19.0887508392334, 19.067117929458618, 19.119823217391968, 19.130934476852417, 19.135619401931763, 19.068397998809814]\n",
    "valid_losss= [0.017775222663031956, 0.014626435511804124, 0.010906822071867673, 0.007683055135360127, 0.006854731867877541, 0.006997309575743, 0.007357149830413887]\n",
    "valid_accs=[0.9932499189329411, 0.9944335828067422, 0.9956929219621333, 0.9973105070697365, 0.9977536107685164, 0.997650872746129, 0.9975113442820626]"
   ]
  },
  {
   "cell_type": "code",
   "execution_count": 8,
   "metadata": {},
   "outputs": [
    {
     "data": {
      "image/png": "[encoded data removed]",
      "text/plain": [
       "<Figure size 432x288 with 1 Axes>"
      ]
     },
     "metadata": {
      "needs_background": "light"
     },
     "output_type": "display_data"
    }
   ],
   "source": [
    "import matplotlib.pyplot as plt\n",
    "%matplotlib inline\n",
    "\n",
    "plt.plot(epochs,train_losss,label='training loss')\n",
    "plt.plot(epochs,valid_losss,label='validation loss')\n",
    "plt.xlabel('epoch') \n",
    "plt.ylabel('loss')\n",
    "plt.legend()\n",
    "plt.show()"
   ]
  },
  {
   "cell_type": "code",
   "execution_count": 9,
   "metadata": {},
   "outputs": [
    {
     "data": {
      "image/png": "[encoded data removed]",
      "text/plain": [
       "<Figure size 432x288 with 1 Axes>"
      ]
     },
     "metadata": {
      "needs_background": "light"
     },
     "output_type": "display_data"
    }
   ],
   "source": [
    "plt.plot(epochs,valid_accs,label='valid  acc')\n",
    "#plt.plot(epochs,valid_losss,label='validation loss')\n",
    "plt.xlabel('epoch') \n",
    "plt.ylabel('accuracy')\n",
    "plt.legend()\n",
    "plt.show()"
   ]
  },
  {
   "cell_type": "code",
   "execution_count": 10,
   "metadata": {},
   "outputs": [],
   "source": [
    "a=torch.tensor([0.7523, 0.7523, 0.7496])\n",
    "b=torch.tensor([1., 1., 1.])"
   ]
  },
  {
   "cell_type": "code",
   "execution_count": 11,
   "metadata": {},
   "outputs": [
    {
     "data": {
      "text/plain": [
       "3"
      ]
     },
     "execution_count": 11,
     "metadata": {},
     "output_type": "execute_result"
    }
   ],
   "source": [
    "c = ((a<0)==(b<0))\n",
    "c.numel()"
   ]
  },
  {
   "cell_type": "code",
   "execution_count": 12,
   "metadata": {},
   "outputs": [
    {
     "data": {
      "text/plain": [
       "'\\nthe_weights = np.array([0.017,1])\\n\\n2020-02-02 09:15:52,559 - GNNTrainer - INFO - Epoch 10\\nloss = 0.00050: 100%|██████████| 11520/11520 [04:59<00:00, 38.45it/s]\\n2020-02-02 09:20:52,147 - GNNTrainer - DEBUG -  Processed 11520 batches\\n2020-02-02 09:20:52,148 - GNNTrainer - INFO -   Training loss: 0.00052\\n2020-02-02 09:20:52,148 - GNNTrainer - INFO -   Learning rate: 0.00100\\n100%|██████████| 2880/2880 [00:28<00:00, 100.21it/s]\\n2020-02-02 09:21:20,912 - GNNTrainer - DEBUG -  Processed 2880 samples in 2880 batches\\n2020-02-02 09:21:20,912 - GNNTrainer - INFO -   Validation loss: 0.020 acc: 0.993\\n2020-02-02 09:21:20,913 - GNNTrainer - INFO -   signal_efficiency: 0.998849 background_efficiency: 0.993102\\n2020-02-02 09:21:20,913 - GNNTrainer - INFO -   signal_purity: 0.821057 background_purity: 0.999963\\n'"
      ]
     },
     "execution_count": 12,
     "metadata": {},
     "output_type": "execute_result"
    }
   ],
   "source": [
    "'''\n",
    "the_weights = np.array([0.017,1])\n",
    "\n",
    "2020-02-02 09:15:52,559 - GNNTrainer - INFO - Epoch 10\n",
    "loss = 0.00050: 100%|██████████| 11520/11520 [04:59<00:00, 38.45it/s]\n",
    "2020-02-02 09:20:52,147 - GNNTrainer - DEBUG -  Processed 11520 batches\n",
    "2020-02-02 09:20:52,148 - GNNTrainer - INFO -   Training loss: 0.00052\n",
    "2020-02-02 09:20:52,148 - GNNTrainer - INFO -   Learning rate: 0.00100\n",
    "100%|██████████| 2880/2880 [00:28<00:00, 100.21it/s]\n",
    "2020-02-02 09:21:20,912 - GNNTrainer - DEBUG -  Processed 2880 samples in 2880 batches\n",
    "2020-02-02 09:21:20,912 - GNNTrainer - INFO -   Validation loss: 0.020 acc: 0.993\n",
    "2020-02-02 09:21:20,913 - GNNTrainer - INFO -   signal_efficiency: 0.998849 background_efficiency: 0.993102\n",
    "2020-02-02 09:21:20,913 - GNNTrainer - INFO -   signal_purity: 0.821057 background_purity: 0.999963\n",
    "'''"
   ]
  },
  {
   "cell_type": "code",
   "execution_count": 13,
   "metadata": {},
   "outputs": [
    {
     "data": {
      "text/plain": [
       "'\\n\\n\\n2020-02-02 10:11:51,495 - GNNTrainer - INFO - Epoch 8\\nloss = 0.00047: 100%|██████████| 11520/11520 [04:59<00:00, 38.45it/s]\\n2020-02-02 10:16:51,110 - GNNTrainer - DEBUG -  Processed 11520 batches\\n2020-02-02 10:16:51,110 - GNNTrainer - INFO -   Training loss: 0.00052\\n2020-02-02 10:16:51,111 - GNNTrainer - INFO -   Learning rate: 0.00100\\n100%|██████████| 2880/2880 [00:28<00:00, 100.22it/s]\\n2020-02-02 10:17:19,872 - GNNTrainer - DEBUG -  Processed 2880 samples in 2880 batches\\n2020-02-02 10:17:19,873 - GNNTrainer - INFO -   Validation loss: 0.019 acc: 0.994\\n2020-02-02 10:17:19,874 - GNNTrainer - INFO -   signal_efficiency: 0.998442 background_efficiency: 0.993346\\n2020-02-02 10:17:19,874 - GNNTrainer - INFO -   signal_purity: 0.826232 background_purity: 0.999950\\n2020-02-02 10:17:19,875 - GNNTrainer - DEBUG - Checkpointing new best model with loss: 0.01923\\n\\n'"
      ]
     },
     "execution_count": 13,
     "metadata": {},
     "output_type": "execute_result"
    }
   ],
   "source": [
    "'''\n",
    "\n",
    "\n",
    "2020-02-02 10:11:51,495 - GNNTrainer - INFO - Epoch 8\n",
    "loss = 0.00047: 100%|██████████| 11520/11520 [04:59<00:00, 38.45it/s]\n",
    "2020-02-02 10:16:51,110 - GNNTrainer - DEBUG -  Processed 11520 batches\n",
    "2020-02-02 10:16:51,110 - GNNTrainer - INFO -   Training loss: 0.00052\n",
    "2020-02-02 10:16:51,111 - GNNTrainer - INFO -   Learning rate: 0.00100\n",
    "100%|██████████| 2880/2880 [00:28<00:00, 100.22it/s]\n",
    "2020-02-02 10:17:19,872 - GNNTrainer - DEBUG -  Processed 2880 samples in 2880 batches\n",
    "2020-02-02 10:17:19,873 - GNNTrainer - INFO -   Validation loss: 0.019 acc: 0.994\n",
    "2020-02-02 10:17:19,874 - GNNTrainer - INFO -   signal_efficiency: 0.998442 background_efficiency: 0.993346\n",
    "2020-02-02 10:17:19,874 - GNNTrainer - INFO -   signal_purity: 0.826232 background_purity: 0.999950\n",
    "2020-02-02 10:17:19,875 - GNNTrainer - DEBUG - Checkpointing new best model with loss: 0.01923\n",
    "\n",
    "'''"
   ]
  }
 ],
 "metadata": {
  "kernelspec": {
   "display_name": "Python 3",
   "language": "python",
   "name": "python3"
  },
  "language_info": {
   "codemirror_mode": {
    "name": "ipython",
    "version": 3
   },
   "file_extension": ".py",
   "mimetype": "text/x-python",
   "name": "python",
   "nbconvert_exporter": "python",
   "pygments_lexer": "ipython3",
   "version": "3.6.10"
  }
 },
 "nbformat": 4,
 "nbformat_minor": 4
}
