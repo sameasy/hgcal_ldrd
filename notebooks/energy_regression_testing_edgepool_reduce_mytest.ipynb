{
 "cells": [
  {
   "cell_type": "code",
   "execution_count": 1,
   "metadata": {},
   "outputs": [
    {
     "name": "stdout",
     "output_type": "stream",
     "text": [
      "(array([0, 1]), array([162727,   6455]))\n",
      "(tensor([0, 1]), tensor([162690,   6492]))\n"
     ]
    }
   ],
   "source": [
    "import numpy as np\n",
    "from scipy.sparse import csr_matrix, find\n",
    "from scipy.spatial import cKDTree\n",
    "from tqdm import tqdm_notebook as tqdm\n",
    "\n",
    "from datasets.graph import draw_sample\n",
    "import torch\n",
    "\n",
    "#model_fname = '/home/lagray/hgcal_ldrd/checkpoints/model_checkpoint_EdgeNetWithCategories_264403_5b5c05404f_lagray.best.pth.tar'\n",
    "model_fname = '/home/sameasy2006/hgcal_ldrd-gravnet2_wip_trainer_args/output_HGC_pion8nn/checkpoints/model_checkpoint_EdgeNetWithCategories_264403_5b5c05404f_sameasy2006.best.pth.tar'\n",
    "#test_fname = '/home/lagray/training_data/single_taus/test/processed/data_40.pt'\n",
    "test_fname = '/home/sameasy2006/npz_hgcal_k8/pion_hgctup_0to1000/processed/data_40.pt'\n",
    "#weird stuff\n",
    "#'/home/lagray/training_data/single_taus/test/processed/data_39.pt'\n",
    "#'/home/lagray/training_data/single_taus/test/processed/data_41.pt'\n",
    "#'/home/lagray/training_data/single_taus/test/processed/data_2.pt'\n",
    "#'/home/lagray/training_data/single_taus/test/processed/data_26.pt'\n",
    "\n",
    "from models.EdgeNetWithCategories import EdgeNetWithCategories\n",
    "\n",
    "mdl = EdgeNetWithCategories(input_dim=5, hidden_dim=64, output_dim=4, n_iters=6).to('cuda:0')\n",
    "\n",
    "mdl.load_state_dict(torch.load(model_fname)['model'])\n",
    "mdl.eval()\n",
    "\n",
    "#test_fname = '/home/lagray/training_data/single_taus/processed/data_8069.pt'\n",
    "\n",
    "data = torch.load(test_fname).to('cuda:0')\n",
    "\n",
    "with torch.no_grad():\n",
    "    pred_edges = mdl(data).detach()\n",
    "    pred_edges_np = pred_edges.cpu().numpy()\n",
    "    \n",
    "print(np.unique(np.argmax(pred_edges_np,axis=-1), return_counts=True))\n",
    "print(torch.unique(data.y.cpu(), return_counts=True))\n",
    "\n",
    "X = data.x.cpu().numpy()\n",
    "index = data.edge_index.cpu().numpy().T\n",
    "Ro = index[:,0]\n",
    "Ri = index[:,1]\n",
    "y = data.y.cpu().numpy()\n",
    "\n",
    "out = np.argmax(pred_edges_np,axis=-1)"
   ]
  },
  {
   "cell_type": "code",
   "execution_count": 2,
   "metadata": {},
   "outputs": [
    {
     "name": "stderr",
     "output_type": "stream",
     "text": [
      "/home/sameasy2006/miniconda3/envs/mlgnn/lib/python3.6/site-packages/ipykernel_launcher.py:6: TqdmDeprecationWarning: This function will be removed in tqdm==5.0.0\n",
      "Please use `tqdm.notebook.tqdm` instead of `tqdm.tqdm_notebook`\n",
      "  \n"
     ]
    },
    {
     "data": {
      "application/vnd.jupyter.widget-view+json": {
       "model_id": "6b94c4ddaf304c81ac9bf9ff7f0b8522",
       "version_major": 2,
       "version_minor": 0
      },
      "text/plain": [
       "HBox(children=(FloatProgress(value=0.0, max=169182.0), HTML(value='')))"
      ]
     },
     "metadata": {},
     "output_type": "display_data"
    },
    {
     "name": "stdout",
     "output_type": "stream",
     "text": [
      "\n"
     ]
    }
   ],
   "source": [
    "from unionfind import UnionFind\n",
    "finder_had = UnionFind(X.shape[0])\n",
    "finder_pho = UnionFind(X.shape[0])\n",
    "finder_mip = UnionFind(X.shape[0])\n",
    "\n",
    "for i in tqdm(range(index.shape[0])):\n",
    "    if out[i] == 1:\n",
    "        finder_had.union(index[i,0], index[i,1])\n",
    "    if out[i] == 2:\n",
    "        finder_pho.union(index[i,0], index[i,1])\n",
    "    if out[i] == 3:\n",
    "        finder_mip.union(index[i,0], index[i,1])\n",
    "\n",
    "had_roots = np.array([finder_had.find(i) for i in range(X.shape[0])], dtype=np.uint32)\n",
    "pho_roots = np.array([finder_pho.find(i) for i in range(X.shape[0])], dtype=np.uint32)\n",
    "mip_roots = np.array([finder_mip.find(i) for i in range(X.shape[0])], dtype=np.uint32)"
   ]
  },
  {
   "cell_type": "code",
   "execution_count": 3,
   "metadata": {},
   "outputs": [
    {
     "name": "stdout",
     "output_type": "stream",
     "text": [
      "20242\n",
      "[    6     6     6 ... 20239 20240 20241]\n",
      "[    0     1     2 ... 20239 20240 20241]\n",
      "[    0     1     2 ... 20239 20240 20241]\n"
     ]
    }
   ],
   "source": [
    "print(X.shape[0])\n",
    "print(had_roots)\n",
    "print(pho_roots)\n",
    "print(mip_roots)"
   ]
  },
  {
   "cell_type": "code",
   "execution_count": 4,
   "metadata": {},
   "outputs": [
    {
     "name": "stdout",
     "output_type": "stream",
     "text": [
      "(19509,)\n",
      "(20242,)\n",
      "(19509,)\n"
     ]
    },
    {
     "data": {
      "text/plain": [
       "array([6], dtype=uint32)"
      ]
     },
     "execution_count": 4,
     "metadata": {},
     "output_type": "execute_result"
    }
   ],
   "source": [
    "had_clusters = np.unique(had_roots, return_inverse=True, return_counts=True)\n",
    "pho_clusters = np.unique(pho_roots, return_inverse=True, return_counts=True)\n",
    "mip_clusters = np.unique(mip_roots, return_inverse=True, return_counts=True)\n",
    "\n",
    "hads = had_clusters[0][np.where(had_clusters[2] > 4)]\n",
    "ems = pho_clusters[0][np.where(pho_clusters[2] > 4)]\n",
    "mips = mip_clusters[0][np.where(mip_clusters[2] > 4)]\n",
    "\n",
    "had_clusters_sel = {i: np.where(had_roots == had)[0] for i, had in enumerate(hads)}\n",
    "#em_clusters_sel = {i: np.where(pho_roots == em)[0] for i, em in enumerate(ems)}\n",
    "#mip_clusters_sel = {i: np.where(mip_roots == mip)[0] for i, mip in enumerate(mips)}\n",
    "print(had_clusters[0].shape)\n",
    "print(had_clusters[1].shape)\n",
    "print(had_clusters[2].shape)\n",
    "hads"
   ]
  },
  {
   "cell_type": "code",
   "execution_count": 5,
   "metadata": {},
   "outputs": [],
   "source": [
    "had_clusters = np.unique(had_roots, return_inverse=True, return_counts=True)\n",
    "pho_clusters = np.unique(pho_roots, return_inverse=True, return_counts=True)\n",
    "mip_clusters = np.unique(mip_roots, return_inverse=True, return_counts=True)\n",
    "\n",
    "hads = had_clusters[0][np.where(had_clusters[2] > 4)]\n",
    "ems = pho_clusters[0][np.where(pho_clusters[2] > 4)]\n",
    "mips = mip_clusters[0][np.where(mip_clusters[2] > 4)]\n",
    "\n",
    "had_clusters_sel = {i: np.where(had_roots == had)[0] for i, had in enumerate(hads)}\n",
    "em_clusters_sel = {i: np.where(pho_roots == em)[0] for i, em in enumerate(ems)}\n",
    "mip_clusters_sel = {i: np.where(mip_roots == mip)[0] for i, mip in enumerate(mips)}\n",
    "\n",
    "#print(had_clusters_sel)\n",
    "#print(em_clusters_sel)\n",
    "#print(mip_clusters_sel)\n",
    "\n",
    "#print(had_clusters[2][np.where(had_clusters[2] > 4)])\n",
    "#print(pho_clusters[2][np.where(pho_clusters[2] > 4)])\n",
    "#print(mip_clusters[2][np.where(mip_clusters[2] > 4)])"
   ]
  },
  {
   "cell_type": "code",
   "execution_count": null,
   "metadata": {},
   "outputs": [],
   "source": []
  },
  {
   "cell_type": "code",
   "execution_count": 20,
   "metadata": {},
   "outputs": [
    {
     "name": "stdout",
     "output_type": "stream",
     "text": [
      "<class 'torch_geometric.data.data.Data'>\n",
      "temp.batch: tensor([0, 0, 0,  ..., 1, 1, 1])\n",
      "tensor([0, 1])\n",
      "temp.batch: tensor([0, 0, 0,  ..., 1, 1, 1])\n",
      "tensor([0, 1])\n",
      "temp.batch: tensor([0, 0, 0,  ..., 1, 1, 1])\n",
      "tensor([0, 1])\n",
      "temp.batch: tensor([0, 0, 0,  ..., 1, 1, 1])\n",
      "tensor([0, 1])\n",
      "temp.batch: tensor([0, 0, 0,  ..., 1, 1, 1])\n",
      "tensor([0, 1])\n",
      "temp.batch: tensor([0, 0, 0,  ..., 1, 1, 1])\n",
      "tensor([0, 1])\n",
      "temp.batch: tensor([0, 0, 0,  ..., 1, 1, 1])\n",
      "tensor([0, 1])\n",
      "temp.batch: tensor([0, 0, 0,  ..., 1, 1, 1])\n",
      "tensor([0, 1])\n",
      "temp.batch: tensor([0, 0, 0,  ..., 1, 1, 1])\n",
      "tensor([0, 1])\n",
      "temp.batch: tensor([0, 0, 0,  ..., 1, 1, 1])\n",
      "tensor([0, 1])\n",
      "temp.batch: tensor([0, 0, 0,  ..., 1, 1, 1])\n",
      "tensor([0, 1])\n",
      "temp.batch: tensor([0, 0, 0,  ..., 1, 1, 1])\n",
      "tensor([0, 1])\n",
      "temp.batch: tensor([0, 0, 0,  ..., 1, 1, 1])\n",
      "tensor([0, 1])\n"
     ]
    },
    {
     "ename": "KeyboardInterrupt",
     "evalue": "",
     "output_type": "error",
     "traceback": [
      "\u001b[0;31m---------------------------------------------------------------------------\u001b[0m",
      "\u001b[0;31mKeyboardInterrupt\u001b[0m                         Traceback (most recent call last)",
      "\u001b[0;32m<ipython-input-20-4f3faff394c3>\u001b[0m in \u001b[0;36m<module>\u001b[0;34m\u001b[0m\n\u001b[1;32m     58\u001b[0m         \u001b[0mtemp\u001b[0m \u001b[0;34m=\u001b[0m \u001b[0mdatum\u001b[0m\u001b[0;31m#.to('cuda:0')\u001b[0m\u001b[0;34m\u001b[0m\u001b[0;34m\u001b[0m\u001b[0m\n\u001b[1;32m     59\u001b[0m         \u001b[0mprint\u001b[0m \u001b[0;34m(\u001b[0m\u001b[0;34m'temp.batch:'\u001b[0m\u001b[0;34m,\u001b[0m\u001b[0mtemp\u001b[0m\u001b[0;34m.\u001b[0m\u001b[0mbatch\u001b[0m\u001b[0;34m)\u001b[0m\u001b[0;34m\u001b[0m\u001b[0;34m\u001b[0m\u001b[0m\n\u001b[0;32m---> 60\u001b[0;31m         \u001b[0mresult\u001b[0m \u001b[0;34m=\u001b[0m \u001b[0mtest\u001b[0m\u001b[0;34m(\u001b[0m\u001b[0mtemp\u001b[0m\u001b[0;34m,\u001b[0m \u001b[0mtemp\u001b[0m\u001b[0;34m.\u001b[0m\u001b[0mbatch\u001b[0m\u001b[0;34m)\u001b[0m\u001b[0;34m\u001b[0m\u001b[0;34m\u001b[0m\u001b[0m\n\u001b[0m\u001b[1;32m     61\u001b[0m \u001b[0;31m#        F.mse_loss(result, temp.y, reduction='mean').backward()\u001b[0m\u001b[0;34m\u001b[0m\u001b[0;34m\u001b[0m\u001b[0;34m\u001b[0m\u001b[0m\n\u001b[1;32m     62\u001b[0m \u001b[0;31m#        optimizer.step()\u001b[0m\u001b[0;34m\u001b[0m\u001b[0;34m\u001b[0m\u001b[0;34m\u001b[0m\u001b[0m\n",
      "\u001b[0;32m~/miniconda3/envs/mlgnn/lib/python3.6/site-packages/torch/nn/modules/module.py\u001b[0m in \u001b[0;36m__call__\u001b[0;34m(self, *input, **kwargs)\u001b[0m\n\u001b[1;32m    530\u001b[0m             \u001b[0mresult\u001b[0m \u001b[0;34m=\u001b[0m \u001b[0mself\u001b[0m\u001b[0;34m.\u001b[0m\u001b[0m_slow_forward\u001b[0m\u001b[0;34m(\u001b[0m\u001b[0;34m*\u001b[0m\u001b[0minput\u001b[0m\u001b[0;34m,\u001b[0m \u001b[0;34m**\u001b[0m\u001b[0mkwargs\u001b[0m\u001b[0;34m)\u001b[0m\u001b[0;34m\u001b[0m\u001b[0;34m\u001b[0m\u001b[0m\n\u001b[1;32m    531\u001b[0m         \u001b[0;32melse\u001b[0m\u001b[0;34m:\u001b[0m\u001b[0;34m\u001b[0m\u001b[0;34m\u001b[0m\u001b[0m\n\u001b[0;32m--> 532\u001b[0;31m             \u001b[0mresult\u001b[0m \u001b[0;34m=\u001b[0m \u001b[0mself\u001b[0m\u001b[0;34m.\u001b[0m\u001b[0mforward\u001b[0m\u001b[0;34m(\u001b[0m\u001b[0;34m*\u001b[0m\u001b[0minput\u001b[0m\u001b[0;34m,\u001b[0m \u001b[0;34m**\u001b[0m\u001b[0mkwargs\u001b[0m\u001b[0;34m)\u001b[0m\u001b[0;34m\u001b[0m\u001b[0;34m\u001b[0m\u001b[0m\n\u001b[0m\u001b[1;32m    533\u001b[0m         \u001b[0;32mfor\u001b[0m \u001b[0mhook\u001b[0m \u001b[0;32min\u001b[0m \u001b[0mself\u001b[0m\u001b[0;34m.\u001b[0m\u001b[0m_forward_hooks\u001b[0m\u001b[0;34m.\u001b[0m\u001b[0mvalues\u001b[0m\u001b[0;34m(\u001b[0m\u001b[0;34m)\u001b[0m\u001b[0;34m:\u001b[0m\u001b[0;34m\u001b[0m\u001b[0;34m\u001b[0m\u001b[0m\n\u001b[1;32m    534\u001b[0m             \u001b[0mhook_result\u001b[0m \u001b[0;34m=\u001b[0m \u001b[0mhook\u001b[0m\u001b[0;34m(\u001b[0m\u001b[0mself\u001b[0m\u001b[0;34m,\u001b[0m \u001b[0minput\u001b[0m\u001b[0;34m,\u001b[0m \u001b[0mresult\u001b[0m\u001b[0;34m)\u001b[0m\u001b[0;34m\u001b[0m\u001b[0;34m\u001b[0m\u001b[0m\n",
      "\u001b[0;32m~/hgcal_ldrd-gravnet2_wip_trainer_args/src/models/DynamicReductionNetwork.py\u001b[0m in \u001b[0;36mforward\u001b[0;34m(self, data, batch)\u001b[0m\n\u001b[1;32m     76\u001b[0m                 \u001b[0medge_index\u001b[0m \u001b[0;34m=\u001b[0m \u001b[0mknn_graph\u001b[0m\u001b[0;34m(\u001b[0m\u001b[0mH_i\u001b[0m\u001b[0;34m,\u001b[0m \u001b[0mself\u001b[0m\u001b[0;34m.\u001b[0m\u001b[0mk\u001b[0m\u001b[0;34m,\u001b[0m \u001b[0mibatch\u001b[0m\u001b[0;34m,\u001b[0m \u001b[0mloop\u001b[0m\u001b[0;34m=\u001b[0m\u001b[0;32mFalse\u001b[0m\u001b[0;34m,\u001b[0m \u001b[0mflow\u001b[0m\u001b[0;34m=\u001b[0m\u001b[0mself\u001b[0m\u001b[0;34m.\u001b[0m\u001b[0medgeconv\u001b[0m\u001b[0;34m.\u001b[0m\u001b[0mflow\u001b[0m\u001b[0;34m)\u001b[0m\u001b[0;34m\u001b[0m\u001b[0;34m\u001b[0m\u001b[0m\n\u001b[1;32m     77\u001b[0m                 \u001b[0mHprime\u001b[0m \u001b[0;34m=\u001b[0m \u001b[0mself\u001b[0m\u001b[0;34m.\u001b[0m\u001b[0medgeconv\u001b[0m\u001b[0;34m(\u001b[0m\u001b[0mH_i\u001b[0m\u001b[0;34m,\u001b[0m \u001b[0medge_index\u001b[0m\u001b[0;34m)\u001b[0m\u001b[0;34m\u001b[0m\u001b[0;34m\u001b[0m\u001b[0m\n\u001b[0;32m---> 78\u001b[0;31m                 \u001b[0mH_i\u001b[0m\u001b[0;34m,\u001b[0m \u001b[0m_\u001b[0m\u001b[0;34m,\u001b[0m \u001b[0mibatch\u001b[0m\u001b[0;34m,\u001b[0m \u001b[0m_\u001b[0m \u001b[0;34m=\u001b[0m \u001b[0mself\u001b[0m\u001b[0;34m.\u001b[0m\u001b[0mreducer\u001b[0m\u001b[0;34m(\u001b[0m\u001b[0mHprime\u001b[0m\u001b[0;34m,\u001b[0m \u001b[0medge_index\u001b[0m\u001b[0;34m,\u001b[0m \u001b[0mibatch\u001b[0m\u001b[0;34m)\u001b[0m\u001b[0;34m\u001b[0m\u001b[0;34m\u001b[0m\u001b[0m\n\u001b[0m\u001b[1;32m     79\u001b[0m             \u001b[0;32mif\u001b[0m \u001b[0mout\u001b[0m \u001b[0;32mis\u001b[0m \u001b[0;32mNone\u001b[0m\u001b[0;34m:\u001b[0m\u001b[0;34m\u001b[0m\u001b[0;34m\u001b[0m\u001b[0m\n\u001b[1;32m     80\u001b[0m                 \u001b[0mout\u001b[0m \u001b[0;34m=\u001b[0m \u001b[0mH_i\u001b[0m\u001b[0;34m\u001b[0m\u001b[0;34m\u001b[0m\u001b[0m\n",
      "\u001b[0;32m~/miniconda3/envs/mlgnn/lib/python3.6/site-packages/torch/nn/modules/module.py\u001b[0m in \u001b[0;36m__call__\u001b[0;34m(self, *input, **kwargs)\u001b[0m\n\u001b[1;32m    530\u001b[0m             \u001b[0mresult\u001b[0m \u001b[0;34m=\u001b[0m \u001b[0mself\u001b[0m\u001b[0;34m.\u001b[0m\u001b[0m_slow_forward\u001b[0m\u001b[0;34m(\u001b[0m\u001b[0;34m*\u001b[0m\u001b[0minput\u001b[0m\u001b[0;34m,\u001b[0m \u001b[0;34m**\u001b[0m\u001b[0mkwargs\u001b[0m\u001b[0;34m)\u001b[0m\u001b[0;34m\u001b[0m\u001b[0;34m\u001b[0m\u001b[0m\n\u001b[1;32m    531\u001b[0m         \u001b[0;32melse\u001b[0m\u001b[0;34m:\u001b[0m\u001b[0;34m\u001b[0m\u001b[0;34m\u001b[0m\u001b[0m\n\u001b[0;32m--> 532\u001b[0;31m             \u001b[0mresult\u001b[0m \u001b[0;34m=\u001b[0m \u001b[0mself\u001b[0m\u001b[0;34m.\u001b[0m\u001b[0mforward\u001b[0m\u001b[0;34m(\u001b[0m\u001b[0;34m*\u001b[0m\u001b[0minput\u001b[0m\u001b[0;34m,\u001b[0m \u001b[0;34m**\u001b[0m\u001b[0mkwargs\u001b[0m\u001b[0;34m)\u001b[0m\u001b[0;34m\u001b[0m\u001b[0;34m\u001b[0m\u001b[0m\n\u001b[0m\u001b[1;32m    533\u001b[0m         \u001b[0;32mfor\u001b[0m \u001b[0mhook\u001b[0m \u001b[0;32min\u001b[0m \u001b[0mself\u001b[0m\u001b[0;34m.\u001b[0m\u001b[0m_forward_hooks\u001b[0m\u001b[0;34m.\u001b[0m\u001b[0mvalues\u001b[0m\u001b[0;34m(\u001b[0m\u001b[0;34m)\u001b[0m\u001b[0;34m:\u001b[0m\u001b[0;34m\u001b[0m\u001b[0;34m\u001b[0m\u001b[0m\n\u001b[1;32m    534\u001b[0m             \u001b[0mhook_result\u001b[0m \u001b[0;34m=\u001b[0m \u001b[0mhook\u001b[0m\u001b[0;34m(\u001b[0m\u001b[0mself\u001b[0m\u001b[0;34m,\u001b[0m \u001b[0minput\u001b[0m\u001b[0;34m,\u001b[0m \u001b[0mresult\u001b[0m\u001b[0;34m)\u001b[0m\u001b[0;34m\u001b[0m\u001b[0;34m\u001b[0m\u001b[0m\n",
      "\u001b[0;32m~/miniconda3/envs/mlgnn/lib/python3.6/site-packages/torch_geometric/nn/pool/edge_pool.py\u001b[0m in \u001b[0;36mforward\u001b[0;34m(self, x, edge_index, batch)\u001b[0m\n\u001b[1;32m    106\u001b[0m \u001b[0;34m\u001b[0m\u001b[0m\n\u001b[1;32m    107\u001b[0m         x, edge_index, batch, unpool_info = self.__merge_edges__(\n\u001b[0;32m--> 108\u001b[0;31m             x, edge_index, batch, e)\n\u001b[0m\u001b[1;32m    109\u001b[0m \u001b[0;34m\u001b[0m\u001b[0m\n\u001b[1;32m    110\u001b[0m         \u001b[0;32mreturn\u001b[0m \u001b[0mx\u001b[0m\u001b[0;34m,\u001b[0m \u001b[0medge_index\u001b[0m\u001b[0;34m,\u001b[0m \u001b[0mbatch\u001b[0m\u001b[0;34m,\u001b[0m \u001b[0munpool_info\u001b[0m\u001b[0;34m\u001b[0m\u001b[0;34m\u001b[0m\u001b[0m\n",
      "\u001b[0;32m~/miniconda3/envs/mlgnn/lib/python3.6/site-packages/torch_geometric/nn/pool/edge_pool.py\u001b[0m in \u001b[0;36m__merge_edges__\u001b[0;34m(self, x, edge_index, batch, edge_score)\u001b[0m\n\u001b[1;32m    126\u001b[0m                 \u001b[0;32mcontinue\u001b[0m\u001b[0;34m\u001b[0m\u001b[0;34m\u001b[0m\u001b[0m\n\u001b[1;32m    127\u001b[0m \u001b[0;34m\u001b[0m\u001b[0m\n\u001b[0;32m--> 128\u001b[0;31m             \u001b[0mtarget\u001b[0m \u001b[0;34m=\u001b[0m \u001b[0medge_index_cpu\u001b[0m\u001b[0;34m[\u001b[0m\u001b[0;36m1\u001b[0m\u001b[0;34m,\u001b[0m \u001b[0medge_idx\u001b[0m\u001b[0;34m]\u001b[0m\u001b[0;34m.\u001b[0m\u001b[0mitem\u001b[0m\u001b[0;34m(\u001b[0m\u001b[0;34m)\u001b[0m\u001b[0;34m\u001b[0m\u001b[0;34m\u001b[0m\u001b[0m\n\u001b[0m\u001b[1;32m    129\u001b[0m             \u001b[0;32mif\u001b[0m \u001b[0mtarget\u001b[0m \u001b[0;32mnot\u001b[0m \u001b[0;32min\u001b[0m \u001b[0mnodes_remaining\u001b[0m\u001b[0;34m:\u001b[0m\u001b[0;34m\u001b[0m\u001b[0;34m\u001b[0m\u001b[0m\n\u001b[1;32m    130\u001b[0m                 \u001b[0;32mcontinue\u001b[0m\u001b[0;34m\u001b[0m\u001b[0;34m\u001b[0m\u001b[0m\n",
      "\u001b[0;31mKeyboardInterrupt\u001b[0m: "
     ]
    }
   ],
   "source": [
    "\n",
    "import torch_geometric\n",
    "import torch\n",
    "\n",
    "import torch.nn as nn\n",
    "import torch.nn.functional as F\n",
    "import torch_geometric.transforms as T\n",
    "\n",
    "from torch.utils.checkpoint import checkpoint\n",
    "from torch_cluster import knn_graph\n",
    "\n",
    "from torch_geometric.nn import EdgeConv\n",
    "from torch_geometric.nn.pool.edge_pool import EdgePooling\n",
    "\n",
    "from models.DynamicReductionNetwork import DynamicReductionNetwork\n",
    "\n",
    "import warnings\n",
    "warnings.simplefilter('ignore')\n",
    "\n",
    "print(type(data))\n",
    "\n",
    "def print_model_summary(model):\n",
    "        \"\"\"Override as needed\"\"\"\n",
    "        print(\n",
    "            'Model: \\n%s\\nParameters: %i' %\n",
    "            (model, sum(p.numel() for p in model.parameters()))\n",
    "        )\n",
    "\n",
    "cls = []\n",
    "cls.extend([torch_geometric.data.Data(x = torch.tensor(X[clus]), y=torch.tensor([20.])) for clus in had_clusters_sel.values()])\n",
    "cls.extend([torch_geometric.data.Data(x = torch.tensor(X[clus]), y=torch.tensor([20.])) for clus in had_clusters_sel.values()])\n",
    "\n",
    "cls.extend([torch_geometric.data.Data(x = torch.tensor(X[clus]), y=torch.tensor([.5])) for clus in em_clusters_sel.values()])\n",
    "cls.extend([torch_geometric.data.Data(x = torch.tensor(X[clus]), y=torch.tensor([1.])) for clus in mip_clusters_sel.values()])\n",
    "\n",
    "target = torch.tensor([30., 5., 2., 1.]).to('cpu')\n",
    "datas = torch_geometric.data.DataLoader(cls, batch_size = 10)\n",
    "\n",
    "#print(cls)\n",
    "#print(datas)\n",
    "\n",
    "#for i, datum in enumerate(datas):\n",
    "#    print (i,datum,torch.unique(datum.batch))\n",
    "#    print(datum.batch)\n",
    "\n",
    "#print(cl.x.shape, cl.x)\n",
    "##### setting all as cpu since gpu crashes\n",
    "test = DynamicReductionNetwork(input_dim=5, hidden_dim=256, output_dim=1, k=8, aggr='add')#.to('cuda:0')  \n",
    "\n",
    "optimizer = torch.optim.Adam(test.parameters(), lr=0.001, weight_decay=5e-3)\n",
    "\n",
    "#print(print_model_summary(test))\n",
    "\n",
    "#test.train()\n",
    "\n",
    "for e in range(300):\n",
    "    test.train()\n",
    "    optimizer.zero_grad()\n",
    "    for i, datum in enumerate(datas):\n",
    "        temp = datum#.to('cuda:0')\n",
    "        print ('temp.batch:',temp.batch)\n",
    "        result = test(temp, temp.batch) \n",
    "#        F.mse_loss(result, temp.y, reduction='mean').backward()\n",
    "#        optimizer.step()\n",
    "#        print(result)\n",
    "\n",
    "batch = torch.zeros(cl.x.shape[0], dtype=torch.int64).to('cuda:0')\n",
    "val = test(cl, batch)\n",
    "test(cl, batch).backward()\n",
    "print(val)\n"
   ]
  },
  {
   "cell_type": "code",
   "execution_count": null,
   "metadata": {},
   "outputs": [],
   "source": [
    "torch_geometric.__version__"
   ]
  },
  {
   "cell_type": "code",
   "execution_count": 7,
   "metadata": {},
   "outputs": [
    {
     "data": {
      "text/plain": [
       "'1.4.4'"
      ]
     },
     "execution_count": 7,
     "metadata": {},
     "output_type": "execute_result"
    }
   ],
   "source": [
    "import torch_cluster\n",
    "torch_cluster.__version__"
   ]
  },
  {
   "cell_type": "code",
   "execution_count": null,
   "metadata": {},
   "outputs": [],
   "source": [
    "CUDA_VISIBLE_DEVICES=0"
   ]
  },
  {
   "cell_type": "code",
   "execution_count": null,
   "metadata": {},
   "outputs": [],
   "source": [
    "import torch_scatter\n",
    "import torch_sparse\n",
    "import torch_cluster\n",
    "import torch_spline_conv"
   ]
  },
  {
   "cell_type": "code",
   "execution_count": null,
   "metadata": {},
   "outputs": [],
   "source": [
    "torch_scatter.__version__"
   ]
  },
  {
   "cell_type": "code",
   "execution_count": null,
   "metadata": {},
   "outputs": [],
   "source": [
    "torch_sparse.__version__"
   ]
  },
  {
   "cell_type": "code",
   "execution_count": 7,
   "metadata": {},
   "outputs": [],
   "source": [
    "from torch_cluster import knn_graph"
   ]
  },
  {
   "cell_type": "code",
   "execution_count": 15,
   "metadata": {},
   "outputs": [],
   "source": [
    "edge_index = knn_graph(cls[0].x, 8, batch = torch.zeros(cls[0].x.shape[0], dtype=torch.int64))"
   ]
  },
  {
   "cell_type": "code",
   "execution_count": null,
   "metadata": {},
   "outputs": [],
   "source": []
  }
 ],
 "metadata": {
  "kernelspec": {
   "display_name": "Python 3",
   "language": "python",
   "name": "python3"
  },
  "language_info": {
   "codemirror_mode": {
    "name": "ipython",
    "version": 3
   },
   "file_extension": ".py",
   "mimetype": "text/x-python",
   "name": "python",
   "nbconvert_exporter": "python",
   "pygments_lexer": "ipython3",
   "version": "3.6.10"
  }
 },
 "nbformat": 4,
 "nbformat_minor": 2
}
